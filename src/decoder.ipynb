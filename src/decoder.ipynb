{
  "cells": [
    {
      "cell_type": "raw",
      "metadata": {},
      "source": [
        "---\n",
        "title: \"Decoding the reptile database\"\n",
        "author: John Leonard\n",
        "date: last-modified\n",
        "---"
      ],
      "id": "7b0bc943"
    },
    {
      "cell_type": "markdown",
      "metadata": {},
      "source": [
        "Decoding the reptile database, especially figuring out how to extract the contents is tricky.  \n",
        "\n",
        "Through this QMD we'll play a process of discovery, unpacking data as necessary.  \n",
        "\n",
        "When we're done, we'll have the python code we need to extract these data and push them into a database.\n",
        "\n",
        "# References and tools\n",
        "\n",
        "To get started you'll need to get all these tools set up.\n",
        "\n",
        "### Python, Poetry and quarto\n",
        "\n",
        "1. <https://github.com/vcu-ssg/ssg-quarto-python-setup>\n",
        "\n",
        "\n",
        "### Sqlite3 and tools\n",
        "\n",
        "1. <https://www.sqlitetutorial.net/download-install-sqlite/>\n",
        "1. I use choco.\n",
        "    a. choco install sqlite\n",
        "    a. choco install sqlite.shell\n",
        "\n",
        "### Detailed tutorial for python, sqllite, sqlalchemy and flask\n",
        "\n",
        "1. <https://realpython.com/python-sqlite-sqlalchemy/>\n",
        "\n",
        "\n",
        "# Exploring the reptile database TXT files.\n",
        "\n",
        "We're provided with two TXT files, each loaded with encoded information.  We need to decode these files, clean\n",
        "them up and push them into a database.\n",
        "\n",
        "For this analysis, copies of the original files are stored in this directory alongside the QMD files.\n"
      ],
      "id": "d4f36835"
    },
    {
      "cell_type": "code",
      "metadata": {},
      "source": [
        "import os\n",
        "import json\n",
        "from utils import load_file\n",
        "from loguru import logger\n",
        "from dotenv import load_dotenv"
      ],
      "id": "27deb98c",
      "execution_count": null,
      "outputs": []
    },
    {
      "cell_type": "markdown",
      "metadata": {},
      "source": [
        "Load file names and testing flags from configuration file.\n"
      ],
      "id": "620f5f0f"
    },
    {
      "cell_type": "code",
      "metadata": {},
      "source": [
        "def load_config(file_path):\n",
        "    with open(file_path, 'r') as file:\n",
        "        return json.load(file)\n",
        "\n",
        "config_path = os.path.join(\"./\", 'config.json')\n",
        "config = load_config(config_path)\n",
        "source_database_txt  = config['database']\n",
        "source_bibliography_txt = config['bibliography']\n",
        "\n",
        "Testing = config[\"db_testing_flag\"];\n",
        "\n",
        "## source_database_txt = \"reptile_database_2023_09.txt\"\n",
        "## source_bibliography_txt = \"reptile_database_bibliography_2023_09.txt\""
      ],
      "id": "af184265",
      "execution_count": null,
      "outputs": []
    },
    {
      "cell_type": "markdown",
      "metadata": {},
      "source": [
        "Load the database credentials from a .ENV file stored OUTSIDE the repo.\n"
      ],
      "id": "fb350c85"
    },
    {
      "cell_type": "code",
      "metadata": {},
      "source": [
        "config_map = {\n",
        "    'user':'REPTILEDB_USER',\n",
        "    'password':'REPTILEDB_PASSWORD',\n",
        "    'host':'REPTILEDB_HOST',\n",
        "    'database':'REPTILEDB_DB_NAME'\n",
        "}\n",
        "# load and store credentials\n",
        "load_dotenv()\n",
        "config = {}\n",
        "for key in config_map.keys():\n",
        "    config[key] = os.getenv(config_map[key])\n",
        "flag = False\n",
        "for param in config.keys():\n",
        "    if config[param] is None:\n",
        "        flag = True\n",
        "        print(f\"Missing {config_map[param]} in .env file\")\n",
        "\n",
        "# build a sqlalchemy engine string\n",
        "mysql_uri = f\"mysql+pymysql://{config['user']}:{config['password']}@{config['host']}/{config['database']}\"\n",
        "sqlite_uri = f\"sqlite:///reptile.db\"\n",
        "\n",
        "## Engine_URI determines where the data are stored.\n",
        "## SQLITE is much faster and good for local use and debugging.\n",
        "## Mysql will store data on CMSC508.  The current loading strategy is really slow.\n",
        "## It might be better to store to SQLITE, dump SQL and load from DUMP to MySQL.\n",
        "\n",
        "## engine_uri = mysql_uri\n",
        "engine_uri = sqlite_uri"
      ],
      "id": "47c49a3e",
      "execution_count": null,
      "outputs": []
    },
    {
      "cell_type": "markdown",
      "metadata": {},
      "source": [
        "## Load the files\n"
      ],
      "id": "15df8f97"
    },
    {
      "cell_type": "code",
      "metadata": {},
      "source": [
        "raw_db = load_file( source_database_txt )\n",
        "raw_bib = load_file( source_bibliography_txt )"
      ],
      "id": "6a1666d8",
      "execution_count": null,
      "outputs": []
    },
    {
      "cell_type": "markdown",
      "metadata": {},
      "source": [
        "Metrics about the database file\n"
      ],
      "id": "32fdd198"
    },
    {
      "cell_type": "code",
      "metadata": {},
      "source": [
        "#| echo: false\n",
        "print(f\"\"\"\n",
        "file: {source_database_txt}\n",
        "rows: {len(raw_db)}\n",
        "cols: {len(raw_db[0])}\n",
        "\"\"\")"
      ],
      "id": "f4ad2eb5",
      "execution_count": null,
      "outputs": []
    },
    {
      "cell_type": "markdown",
      "metadata": {},
      "source": [
        "And the bibliography file.\n"
      ],
      "id": "487ad5b3"
    },
    {
      "cell_type": "code",
      "metadata": {},
      "source": [
        "#| echo: false\n",
        "print(f\"\"\"\n",
        "file: {source_bibliography_txt}\n",
        "rows: {len(raw_bib)}\n",
        "cols: {len(raw_bib[0])}\n",
        "\"\"\")"
      ],
      "id": "d4bf8d00",
      "execution_count": null,
      "outputs": []
    },
    {
      "cell_type": "markdown",
      "metadata": {},
      "source": [
        "## First pass over the TXT files\n",
        "\n",
        "### Reptile DB - identifying columns\n",
        "\n",
        "Let's look at the first row.\n"
      ],
      "id": "77bd03d7"
    },
    {
      "cell_type": "code",
      "metadata": {},
      "source": [
        "db_names = []\n",
        "for i,field in enumerate(raw_db[0]):\n",
        "    print(f\"col{i:02}: {field}\")\n",
        "    db_names.append(f\"col{i:02}\")"
      ],
      "id": "553ba7de",
      "execution_count": null,
      "outputs": []
    },
    {
      "cell_type": "markdown",
      "metadata": {},
      "source": [
        "OK, now it's time to name the columns\n"
      ],
      "id": "85ff28ac"
    },
    {
      "cell_type": "code",
      "metadata": {},
      "source": [
        "db_names = [\n",
        "    'Higher Taxa Species', \n",
        "    'subspecies_1', \n",
        "    'subspecies_2', \n",
        "    'subspecies_finder', \n",
        "    'subspecies_year', \n",
        "    'col05', \n",
        "    'Synonym (tab-delimited)', \n",
        "    'col07', \n",
        "    'Common Names (encoded)', \n",
        "    'Distribution', \n",
        "    'Comments (encoded)', \n",
        "    'Diagnosis (encoded)', \n",
        "    'Types (encoded)', \n",
        "    'external links (encoded)', \n",
        "    'biblography ids (encoded)', \n",
        "    'Etymology', \n",
        "    'col16',\n",
        "    'col17', \n",
        "    'Reproduction'\n",
        "    ]"
      ],
      "id": "57837198",
      "execution_count": null,
      "outputs": []
    },
    {
      "cell_type": "markdown",
      "metadata": {},
      "source": [
        "Now let's align the names with the data to see what we get.\n"
      ],
      "id": "5ba3c60d"
    },
    {
      "cell_type": "code",
      "metadata": {},
      "source": [
        "for i,field in enumerate(raw_db[0]):\n",
        "    print(f\"{db_names[i]:>25} : {field}\")"
      ],
      "id": "1920792e",
      "execution_count": null,
      "outputs": []
    },
    {
      "cell_type": "markdown",
      "metadata": {},
      "source": [
        "Looking good!  Next steps:\n",
        "\n",
        "1. name the unknown columns,\n",
        "2. unpack encoded links into sublists.\n",
        "3. consider creating objects for each row.\n",
        "4. Fire up SQLAlchemy to connect objects to database\n",
        "5. Unpack rows and load the database!\n",
        "\n",
        "## Bibliography file\n",
        "\n",
        "Let's look at the first row.\n"
      ],
      "id": "754345a1"
    },
    {
      "cell_type": "code",
      "metadata": {},
      "source": [
        "bib_names = []\n",
        "for i,field in enumerate(raw_bib[0]):\n",
        "    print(f\"col{i:02}: {field}\")\n",
        "    bib_names.append(f\"col{i:02}\")"
      ],
      "id": "4b2333f3",
      "execution_count": null,
      "outputs": []
    },
    {
      "cell_type": "markdown",
      "metadata": {},
      "source": [
        "OK, now it's time to name the rows.\n"
      ],
      "id": "016470e5"
    },
    {
      "cell_type": "code",
      "metadata": {},
      "source": [
        "bib_names = [\n",
        "    'bib_id', \n",
        "    'bib_authors', \n",
        "    'bib_year', \n",
        "    'bib_title', \n",
        "    'bib_journal', \n",
        "    'bib_url'\n",
        "]"
      ],
      "id": "481c6e57",
      "execution_count": null,
      "outputs": []
    },
    {
      "cell_type": "markdown",
      "metadata": {},
      "source": [
        "Now let's align the names with the data to see what we get.\n"
      ],
      "id": "2283c437"
    },
    {
      "cell_type": "code",
      "metadata": {},
      "source": [
        "for i,field in enumerate(raw_bib[0]):\n",
        "    print(f\"{bib_names[i]:>25} : {field}\")"
      ],
      "id": "f5e57160",
      "execution_count": null,
      "outputs": []
    },
    {
      "cell_type": "markdown",
      "metadata": {},
      "source": [
        "# Data Cleaning exploring and cleaning\n",
        "\n",
        "After working with the data, we've seen lots of messiness.  In the sections below present the messiness and would like guidance on how to clean it up.\n"
      ],
      "id": "4e1ec2eb"
    },
    {
      "cell_type": "code",
      "metadata": {},
      "source": [
        "#| echo: false\n",
        "# These helpers are used later.  They are not echoed out.\n",
        "def show_values(description,values,top=7,bot=7 ):\n",
        "    item_count = len(values)\n",
        "    max_item_length = 0\n",
        "    for value in values:\n",
        "        max_item_length = max( max_item_length,len(value) )\n",
        "    print(description)\n",
        "    print(f\"Number of unique rows: {item_count}\")\n",
        "    print(f\"Longest row: {max_item_length}\")\n",
        "    for i in range(0,min(top,item_count)):\n",
        "        print(f\"{i+1:6}. {values[i].encode('utf-8')}\")\n",
        "    print(\"...\")\n",
        "    if item_count>top+bot:\n",
        "        for i in range(item_count-bot,item_count):\n",
        "            print(f\"{i+1:6}. {values[i].encode('utf-8')}\")\n",
        "\n",
        "def show_column( description,items,col_id,sort=True ):\n",
        "    col_set = set()  # Initialize an empty set to store unique values\n",
        "    for i,row in enumerate(items):\n",
        "        col_set.add(row[col_id])\n",
        "    if sort:\n",
        "        col_list = sorted(list(col_set))\n",
        "    else:\n",
        "        col_list = list(col_set)\n",
        "    show_values(description,col_list,7,7)"
      ],
      "id": "a407f086",
      "execution_count": null,
      "outputs": []
    },
    {
      "cell_type": "markdown",
      "metadata": {},
      "source": [
        "## Initial cleanup\n",
        "\n",
        "Let's do some final cleanup on both lists, removing leading and trailing whitespace,\n",
        "and removing any trailing \"\\\"\n"
      ],
      "id": "c1f0f8ff"
    },
    {
      "cell_type": "code",
      "metadata": {},
      "source": [
        "def clean_all_rows(dblist):\n",
        "    for row_index in range(len(dblist)):\n",
        "        for field_index in range(len(dblist[row_index])):\n",
        "            field = dblist[row_index][field_index]\n",
        "            oldfield = field\n",
        "            field = field.strip()\n",
        "            while field.endswith(\"\\\\\"):\n",
        "                field = field[:-1]\n",
        "            # Assign the modified field back to the original position in dblist\n",
        "            dblist[row_index][field_index] = field\n",
        "    return dblist\n",
        "\n",
        "raw_db = clean_all_rows( raw_db )\n",
        "raw_bib = clean_all_rows( raw_bib )"
      ],
      "id": "b543113b",
      "execution_count": null,
      "outputs": []
    },
    {
      "cell_type": "markdown",
      "metadata": {},
      "source": [
        "## Taxa (col 0)\n",
        "\n",
        "* How should higher-taxa be coded?  That is, should we keep it in one entry, or do we separate it out into fields?\n",
        "\n",
        "My guess is that it should stay whole like it currently is.\n",
        "\n",
        "Below is a sample drop of a few records of Taxa.\n"
      ],
      "id": "5c2026fd"
    },
    {
      "cell_type": "code",
      "metadata": {},
      "source": [
        "show_column(\"Taxa\", raw_db,0, True )"
      ],
      "id": "b7402934",
      "execution_count": null,
      "outputs": []
    },
    {
      "cell_type": "markdown",
      "metadata": {},
      "source": [
        "## Subspecies 1 (col 1)\n",
        "\n",
        "This all looks OK.\n"
      ],
      "id": "fec359a6"
    },
    {
      "cell_type": "code",
      "metadata": {},
      "source": [
        "show_column(\"Subspecies 1\", raw_db,1, False )"
      ],
      "id": "383400fc",
      "execution_count": null,
      "outputs": []
    },
    {
      "cell_type": "markdown",
      "metadata": {},
      "source": [
        "## Subspecies 2 (col 2)\n",
        "\n",
        "This all looks OK.\n"
      ],
      "id": "27212ab3"
    },
    {
      "cell_type": "code",
      "metadata": {},
      "source": [
        "show_column(\"Subspecies 2\", raw_db,2, False )"
      ],
      "id": "b10e4c6a",
      "execution_count": null,
      "outputs": []
    },
    {
      "cell_type": "markdown",
      "metadata": {},
      "source": [
        "## Subspecies_finder (col 3)\n",
        "\n",
        "This all looks OK.\n"
      ],
      "id": "2c5b17c2"
    },
    {
      "cell_type": "code",
      "metadata": {},
      "source": [
        "show_column(\"Subspecies 2\", raw_db,3, False )"
      ],
      "id": "86e2fe9b",
      "execution_count": null,
      "outputs": []
    },
    {
      "cell_type": "markdown",
      "metadata": {},
      "source": [
        "## Subspecies_year (col 4)\n"
      ],
      "id": "bb2eecf2"
    },
    {
      "cell_type": "code",
      "metadata": {},
      "source": [
        "col_set = set()  # Initialize an empty set to store unique values\n",
        "for row in raw_db:\n",
        "    col_set.add(row[4])\n",
        "col_list = sorted(list(col_set), key=lambda x: len(x))\n",
        "\n",
        "show_values(\"Subspecies year\",col_list,7,7)"
      ],
      "id": "d366dfc4",
      "execution_count": null,
      "outputs": []
    },
    {
      "cell_type": "markdown",
      "metadata": {},
      "source": [
        "Note that there is an incorrect value in here!  Time to track it down and clean it up!\n",
        "\n",
        "### Cleaning subspecies_year\n"
      ],
      "id": "f63433d7"
    },
    {
      "cell_type": "code",
      "metadata": {},
      "source": [
        "for i,row in enumerate(raw_db):\n",
        "    try:\n",
        "        if not int(row[4]) in range(1600,2399):\n",
        "            logger.warning(f\"Subspecies year (col04): {i:6} : Invalid year\")\n",
        "    except ValueError as e:\n",
        "        logger.warning(f\"Subspecies year (col04): {i:6} : {e}\")"
      ],
      "id": "888096b7",
      "execution_count": null,
      "outputs": []
    },
    {
      "cell_type": "markdown",
      "metadata": {},
      "source": [
        "## Column 5\n",
        "\n",
        "* What is this field?  How is it used?  How should it be coded?\n"
      ],
      "id": "6c59e906"
    },
    {
      "cell_type": "code",
      "metadata": {},
      "source": [
        "show_column(\"Unknown Column 5\",raw_db,5)"
      ],
      "id": "67990544",
      "execution_count": null,
      "outputs": []
    },
    {
      "cell_type": "markdown",
      "metadata": {},
      "source": [
        "## Synonyms (col 6)\n",
        "\n",
        "* There is some goofy data inside here!  How do we clean?\n",
        "\n",
        "Some of the records include references, others don't.\n"
      ],
      "id": "927e7bf0"
    },
    {
      "cell_type": "code",
      "metadata": {},
      "source": [
        "col_set = set()  # Initialize an empty set to store unique values\n",
        "for row in raw_db:\n",
        "    synonyms = row[6].replace(\"\\u001d\",\"\").split(\"\\u000b\")\n",
        "    for syn in synonyms:\n",
        "        col_set.add(syn)"
      ],
      "id": "bd289e4d",
      "execution_count": null,
      "outputs": []
    },
    {
      "cell_type": "markdown",
      "metadata": {},
      "source": [
        "### A jumble of the first and last records\n"
      ],
      "id": "ea3e5b45"
    },
    {
      "cell_type": "code",
      "metadata": {},
      "source": [
        "col_list = sorted(list(col_set), key=lambda x: x)\n",
        "show_values(\"Synonyms\",col_list,7,7)"
      ],
      "id": "89e2d2bb",
      "execution_count": null,
      "outputs": []
    },
    {
      "cell_type": "markdown",
      "metadata": {},
      "source": [
        "### Sorted with the longest at the end"
      ],
      "id": "e201b157"
    },
    {
      "cell_type": "code",
      "metadata": {},
      "source": [
        "col_list = sorted(list(col_set), key=lambda x: len(x))\n",
        "show_values(\"Synonyms\",col_list,7,7)"
      ],
      "id": "aad3c05f",
      "execution_count": null,
      "outputs": []
    },
    {
      "cell_type": "markdown",
      "metadata": {},
      "source": [
        "### Column 7\n",
        "\n",
        "* This looks like encoded references of some sort.\n"
      ],
      "id": "6e14a695"
    },
    {
      "cell_type": "code",
      "metadata": {},
      "source": [
        "col_set = set()  # Initialize an empty set to store unique values\n",
        "for row in raw_db:\n",
        "    synonyms = row[7].replace(\"\\u001d\",\"\").split(\"\\u000b\")\n",
        "    for syn in synonyms:\n",
        "        col_set.add(syn)"
      ],
      "id": "40d466af",
      "execution_count": null,
      "outputs": []
    },
    {
      "cell_type": "markdown",
      "metadata": {},
      "source": [
        "### A jumble of the first and last records\n"
      ],
      "id": "492284df"
    },
    {
      "cell_type": "code",
      "metadata": {},
      "source": [
        "col_list = sorted(list(col_set), key=lambda x: x)\n",
        "show_values(\"Column 7\",col_list,7,7)"
      ],
      "id": "bac7e9bc",
      "execution_count": null,
      "outputs": []
    },
    {
      "cell_type": "markdown",
      "metadata": {},
      "source": [
        "### Sorted with the longest at the end"
      ],
      "id": "eef2f110"
    },
    {
      "cell_type": "code",
      "metadata": {},
      "source": [
        "col_list = sorted(list(col_set), key=lambda x: len(x))\n",
        "show_values(\"Column 7\",col_list,7,7)"
      ],
      "id": "988e1dbc",
      "execution_count": null,
      "outputs": []
    },
    {
      "cell_type": "markdown",
      "metadata": {},
      "source": [
        "## Common Names (col 8)\n",
        "\n",
        "* How should we handle different languages?\n",
        "\n",
        "I recommend adding a field for language, e.g, EN, SP, GR, etc.\n",
        "\n",
        "Note however, that some of the leading *xxx:* field names do not represent real languages.  It appears\n",
        "that in some cases, these represent the author of the paper that used the particular name.\n"
      ],
      "id": "5cda4593"
    },
    {
      "cell_type": "code",
      "metadata": {},
      "source": [
        "col_set = set()  # Initialize an empty set to store unique values\n",
        "for row in raw_db:\n",
        "    names = row[8].replace(\"\\u001d\",\"\").split(\"\\u000b\")\n",
        "    for name in names:\n",
        "        col_set.add(name)"
      ],
      "id": "f2284c15",
      "execution_count": null,
      "outputs": []
    },
    {
      "cell_type": "markdown",
      "metadata": {},
      "source": [
        "### A jumble of the first and last records\n"
      ],
      "id": "c29cefef"
    },
    {
      "cell_type": "code",
      "metadata": {},
      "source": [
        "col_list = sorted(list(col_set), key=lambda x: x)\n",
        "show_values(\"Common names\",col_list,7,7)"
      ],
      "id": "6800ec72",
      "execution_count": null,
      "outputs": []
    },
    {
      "cell_type": "markdown",
      "metadata": {},
      "source": [
        "### Sorted with the longest at the end\n",
        "\n",
        "* What do we do with these longer strings?\n",
        "\n",
        "* Are they actually a list of common names?\n",
        "\n",
        "* If so, should these be separated out and encoded separately?\n"
      ],
      "id": "2a31e947"
    },
    {
      "cell_type": "code",
      "metadata": {},
      "source": [
        "col_list = sorted(list(col_set), key=lambda x: len(x))\n",
        "show_values(\"Common names\",col_list,7,7)"
      ],
      "id": "d8b35ed2",
      "execution_count": null,
      "outputs": []
    },
    {
      "cell_type": "markdown",
      "metadata": {},
      "source": [
        "## Distribution (col 9)\n"
      ],
      "id": "f9e58d67"
    },
    {
      "cell_type": "code",
      "metadata": {},
      "source": [
        "col_set = set()  # Initialize an empty set to store unique values\n",
        "for row in raw_db:\n",
        "    fields = row[9].replace(\"\\u001d\",\"\").split(\"\\u000b\")\n",
        "    for field in fields:\n",
        "        col_set.add(field)"
      ],
      "id": "2ce501c5",
      "execution_count": null,
      "outputs": []
    },
    {
      "cell_type": "markdown",
      "metadata": {},
      "source": [
        "### A jumble of the first and last records\n"
      ],
      "id": "acb0d3b9"
    },
    {
      "cell_type": "code",
      "metadata": {},
      "source": [
        "col_list = sorted(list(col_set), key=lambda x: x)\n",
        "show_values(\"Distribution\",col_list,7,7)"
      ],
      "id": "b60c51c2",
      "execution_count": null,
      "outputs": []
    },
    {
      "cell_type": "markdown",
      "metadata": {},
      "source": [
        "### Sorted with the longest at the end\n"
      ],
      "id": "c5f87cc0"
    },
    {
      "cell_type": "code",
      "metadata": {},
      "source": [
        "col_list = sorted(list(col_set), key=lambda x: len(x))\n",
        "show_values(\"Distribution\",col_list,7,7)"
      ],
      "id": "7ca66366",
      "execution_count": null,
      "outputs": []
    },
    {
      "cell_type": "markdown",
      "metadata": {},
      "source": [
        "## Comments (col 10)\n"
      ],
      "id": "47c66259"
    },
    {
      "cell_type": "code",
      "metadata": {},
      "source": [
        "col_set = set()  # Initialize an empty set to store unique values\n",
        "for row in raw_db:\n",
        "    fields = row[10].replace(\"\\u001d\",\"\").split(\"\\u000b\")\n",
        "    for field in fields:\n",
        "        col_set.add(field)"
      ],
      "id": "c2871817",
      "execution_count": null,
      "outputs": []
    },
    {
      "cell_type": "markdown",
      "metadata": {},
      "source": [
        "### A jumble of the first and last records\n"
      ],
      "id": "49b327d5"
    },
    {
      "cell_type": "code",
      "metadata": {},
      "source": [
        "col_list = sorted(list(col_set), key=lambda x: x)\n",
        "show_values(\"Comments\",col_list,7,7)"
      ],
      "id": "80d43fb2",
      "execution_count": null,
      "outputs": []
    },
    {
      "cell_type": "markdown",
      "metadata": {},
      "source": [
        "### Sorted with the longest at the end\n"
      ],
      "id": "e8d1a018"
    },
    {
      "cell_type": "code",
      "metadata": {},
      "source": [
        "col_list = sorted(list(col_set), key=lambda x: len(x))\n",
        "show_values(\"Comments\",col_list,7,7)"
      ],
      "id": "76f5ca49",
      "execution_count": null,
      "outputs": []
    },
    {
      "cell_type": "markdown",
      "metadata": {},
      "source": [
        "## Diagnosis (col 11)\n"
      ],
      "id": "be3c896f"
    },
    {
      "cell_type": "code",
      "metadata": {},
      "source": [
        "col_set = set()  # Initialize an empty set to store unique values\n",
        "for row in raw_db:\n",
        "    fields = row[11].replace(\"\\u001d\",\"\").split(\"\\u000b\")\n",
        "    for field in fields:\n",
        "        col_set.add(field)"
      ],
      "id": "3a664fb3",
      "execution_count": null,
      "outputs": []
    },
    {
      "cell_type": "markdown",
      "metadata": {},
      "source": [
        "### A jumble of the first and last records\n"
      ],
      "id": "d7ceb122"
    },
    {
      "cell_type": "code",
      "metadata": {},
      "source": [
        "col_list = sorted(list(col_set), key=lambda x: x)\n",
        "show_values(\"Diagnosis\",col_list,7,7)"
      ],
      "id": "3b1812d5",
      "execution_count": null,
      "outputs": []
    },
    {
      "cell_type": "markdown",
      "metadata": {},
      "source": [
        "### Sorted with the longest at the end\n"
      ],
      "id": "972ef51b"
    },
    {
      "cell_type": "code",
      "metadata": {},
      "source": [
        "col_list = sorted(list(col_set), key=lambda x: len(x))\n",
        "show_values(\"Diagnosis\",col_list,7,7)"
      ],
      "id": "1fe2906d",
      "execution_count": null,
      "outputs": []
    },
    {
      "cell_type": "markdown",
      "metadata": {},
      "source": [
        "### Cleaning diagnoses\n"
      ],
      "id": "11792b4c"
    },
    {
      "cell_type": "code",
      "metadata": {},
      "source": [
        "def odd_code(i, code ):\n",
        "    if code in raw_db[i][11]:\n",
        "        logger.warning(f\"Record: {i:6} : {code.encode('utf-8')}\")\n",
        "\n",
        "\n",
        "for i,row in enumerate(raw_db):\n",
        "    odd_code(i,\"\\\\\\'\")\n",
        "    raw_db[i][11] = raw_db[i][11].replace(\"\\\\\\'\",\"'\")\n",
        "    odd_code(i,\"\\\\\\\"\")\n",
        "    raw_db[i][11] = raw_db[i][11].replace(\"\\\\\\\"\",\"'\")\n",
        "    odd_code(i,\"''\")\n",
        "    raw_db[i][11] = raw_db[i][11].replace(\"''\",\"\")\n",
        "    if raw_db[i][11]==\"\\\\\":\n",
        "        logger.warning(f\"Record: {i:6} : {code.encode('utf-8')}\")\n",
        "        raw_db[i][11] = \"\"\n",
        "    if raw_db[i][11].endswith(\"\\\\\"):\n",
        "        logger.warning(f\"Record: {i:6} : {code.encode('utf-8')} ends with\")\n",
        "        raw_db[i][11] = raw_db[i][11][:-1]\n",
        "\n",
        "#    raw_db[i][11] = raw_db[i][11].encode('utf-8').replace(b'\\xe2\\x80\\x93',\"-\".encode('utf-8')).decode()"
      ],
      "id": "f6c78c72",
      "execution_count": null,
      "outputs": []
    },
    {
      "cell_type": "markdown",
      "metadata": {},
      "source": [
        "## Type Specimens (col 12)\n"
      ],
      "id": "156e5844"
    },
    {
      "cell_type": "code",
      "metadata": {},
      "source": [
        "col_set = set()  # Initialize an empty set to store unique values\n",
        "for row in raw_db:\n",
        "    fields = row[12].replace(\"\\u001d\",\"\").split(\"\\u000b\")\n",
        "    for field in fields:\n",
        "        col_set.add(field)"
      ],
      "id": "0db1cc2e",
      "execution_count": null,
      "outputs": []
    },
    {
      "cell_type": "markdown",
      "metadata": {},
      "source": [
        "### A jumble of the first and last records\n"
      ],
      "id": "fcff357d"
    },
    {
      "cell_type": "code",
      "metadata": {},
      "source": [
        "col_list = sorted(list(col_set), key=lambda x: x)\n",
        "show_values(\"Type specimens\",col_list,7,7)"
      ],
      "id": "9619ce85",
      "execution_count": null,
      "outputs": []
    },
    {
      "cell_type": "markdown",
      "metadata": {},
      "source": [
        "### Sorted with the longest at the end\n"
      ],
      "id": "0c8a681d"
    },
    {
      "cell_type": "code",
      "metadata": {},
      "source": [
        "col_list = sorted(list(col_set), key=lambda x: len(x))\n",
        "show_values(\"Type specimens\",col_list,7,7)"
      ],
      "id": "ecfd5783",
      "execution_count": null,
      "outputs": []
    },
    {
      "cell_type": "markdown",
      "metadata": {},
      "source": [
        "## External links (col 13)\n"
      ],
      "id": "be7e8561"
    },
    {
      "cell_type": "code",
      "metadata": {},
      "source": [
        "col_set = set()  # Initialize an empty set to store unique values\n",
        "for row in raw_db:\n",
        "    fields = row[13].replace(\"\\u001d\",\"\").split(\"\\u000b\")\n",
        "    for field in fields:\n",
        "        col_set.add(field)"
      ],
      "id": "61c754b3",
      "execution_count": null,
      "outputs": []
    },
    {
      "cell_type": "markdown",
      "metadata": {},
      "source": [
        "### A jumble of the first and last records\n"
      ],
      "id": "f6f07f18"
    },
    {
      "cell_type": "code",
      "metadata": {},
      "source": [
        "col_list = sorted(list(col_set), key=lambda x: x)\n",
        "show_values(\"External links\",col_list,7,7)"
      ],
      "id": "5a4eac3e",
      "execution_count": null,
      "outputs": []
    },
    {
      "cell_type": "markdown",
      "metadata": {},
      "source": [
        "### Sorted with the longest at the end\n"
      ],
      "id": "868d6271"
    },
    {
      "cell_type": "code",
      "metadata": {},
      "source": [
        "col_list = sorted(list(col_set), key=lambda x: len(x))\n",
        "show_values(\"External links\",col_list,7,7)"
      ],
      "id": "dc5248ae",
      "execution_count": null,
      "outputs": []
    },
    {
      "cell_type": "markdown",
      "metadata": {},
      "source": [
        "## Bibliography (col 14)\n",
        "\n",
        "* What should we do with missing bibliography numbers?  That is, a number in the reptile database\n",
        "that doesn't have a corresponding entry in the bibliography table?\n",
        "\n",
        "* What should we do with unused bibliography references?\n"
      ],
      "id": "041a718e"
    },
    {
      "cell_type": "code",
      "metadata": {},
      "source": [
        "ids_in_db = set()\n",
        "for row in raw_db:\n",
        "    bibs = row[14].replace(\"\\x1d\", \"\").split(\"\\x0b\")\n",
        "    for bib in bibs:\n",
        "        ids_in_db.add(bib)\n",
        "ids_in_biblio = set()\n",
        "for row in raw_bib:\n",
        "    ids_in_biblio.add(row[0])\n",
        "\n",
        "ids_not_in_bibliography = ids_in_db - ids_in_biblio\n",
        "unused_bibliography_ids = ids_in_biblio - ids_in_db\n",
        "\n",
        "print(f\"Number of ids in DB: {len(ids_in_db)}\")\n",
        "print(f\"Number of ids in bibliography table: {len(ids_in_biblio)}\")\n",
        "print(\"\")\n",
        "print(f\"Number of missing bibliography references: {len(ids_not_in_bibliography)}\")\n",
        "print(f\"Number of unused bibliography entries: {len(unused_bibliography_ids)}\")\n",
        "print(\"\")\n",
        "print(\"\")\n",
        "show_values(\"Bibliography\",sorted(list(ids_in_db)),7,7)"
      ],
      "id": "bdcd7da7",
      "execution_count": null,
      "outputs": []
    },
    {
      "cell_type": "markdown",
      "metadata": {},
      "source": [
        "## Etymology (col 15)\n",
        "\n",
        "* How should these data be cleaned?  \n",
        "\n",
        "* Is the max length correct? \n",
        "\n",
        "### Etymology records sorted.\n",
        "\n",
        "Note the empty records, odd chars in records, and inconsistent lead characters.\n"
      ],
      "id": "da7504aa"
    },
    {
      "cell_type": "code",
      "metadata": {},
      "source": [
        "show_column(\"Etymology\",raw_db,15,False)"
      ],
      "id": "93623f43",
      "execution_count": null,
      "outputs": []
    },
    {
      "cell_type": "markdown",
      "metadata": {},
      "source": [
        "### Etymology sorted by length\n",
        "\n",
        "Only a few are really, really long!\n"
      ],
      "id": "43d376cf"
    },
    {
      "cell_type": "code",
      "metadata": {},
      "source": [
        "col_set = set()  # Initialize an empty set to store unique values\n",
        "for row in raw_db:\n",
        "    col_set.add(row[15])\n",
        "col_list = sorted(list(col_set), key=lambda x: len(x))\n",
        "show_values(\"Etymology by length\",col_list,7,7)"
      ],
      "id": "920b988b",
      "execution_count": null,
      "outputs": []
    },
    {
      "cell_type": "markdown",
      "metadata": {},
      "source": [
        "## Column 16\n"
      ],
      "id": "35161d86"
    },
    {
      "cell_type": "code",
      "metadata": {},
      "source": [
        "show_column(\"Unknown Column 16\",raw_db,16,False)"
      ],
      "id": "786adf76",
      "execution_count": null,
      "outputs": []
    },
    {
      "cell_type": "markdown",
      "metadata": {},
      "source": [
        "## Column 17\n"
      ],
      "id": "d907dd0c"
    },
    {
      "cell_type": "code",
      "metadata": {},
      "source": [
        "col_set = set()  # Initialize an empty set to store unique values\n",
        "for row in raw_db:\n",
        "    fields = row[17].replace(\"\\u001d\",\"\").split(\"\\u000b\")\n",
        "    for field in fields:\n",
        "        col_set.add(field)"
      ],
      "id": "7aff1696",
      "execution_count": null,
      "outputs": []
    },
    {
      "cell_type": "markdown",
      "metadata": {},
      "source": [
        "### A jumble of the first and last records\n"
      ],
      "id": "0bf9ed8c"
    },
    {
      "cell_type": "code",
      "metadata": {},
      "source": [
        "col_list = sorted(list(col_set), key=lambda x: x)\n",
        "show_values(\"Column 17\",col_list,7,7)"
      ],
      "id": "53810ed3",
      "execution_count": null,
      "outputs": []
    },
    {
      "cell_type": "markdown",
      "metadata": {},
      "source": [
        "### Sorted with the longest at the end\n"
      ],
      "id": "c30301e0"
    },
    {
      "cell_type": "code",
      "metadata": {},
      "source": [
        "col_list = sorted(list(col_set), key=lambda x: len(x))\n",
        "show_values(\"Column 17\",col_list,7,7)"
      ],
      "id": "7858f9a7",
      "execution_count": null,
      "outputs": []
    },
    {
      "cell_type": "markdown",
      "metadata": {},
      "source": [
        "## Reproduction values (col 18)\n",
        "\n",
        "* How should reproduction be coded or recoded?\n",
        "\n",
        "* How to handle extra long rows?\n"
      ],
      "id": "6823d87a"
    },
    {
      "cell_type": "code",
      "metadata": {},
      "source": [
        "show_column(\"Reproduction\",raw_db,18,False)"
      ],
      "id": "67a38060",
      "execution_count": null,
      "outputs": []
    },
    {
      "cell_type": "markdown",
      "metadata": {},
      "source": [
        "I see *oviparous*,*ovoviparous*, and *viviparous*.  Some capitalized and others not. Here is a listing of values that don't begin with *ov*:\n"
      ],
      "id": "d86a1567"
    },
    {
      "cell_type": "code",
      "metadata": {},
      "source": [
        "reproduction_set = set()  # Initialize an empty set to store unique values\n",
        "for row in raw_db:\n",
        "    if not row[18].lower()[:2] in ['ov','vi']:\n",
        "        reproduction_set.add(row[18])\n",
        "repro_list = sorted(list(reproduction_set))\n",
        "\n",
        "show_values(\"Non ov/vi fields\",repro_list,7,7)"
      ],
      "id": "b4b3c278",
      "execution_count": null,
      "outputs": []
    },
    {
      "cell_type": "markdown",
      "metadata": {},
      "source": [
        "## Bib id (col 0)\n"
      ],
      "id": "56ed11d4"
    },
    {
      "cell_type": "code",
      "metadata": {},
      "source": [
        "show_column(\"Bibliography: bib_id\",raw_bib,0,False)"
      ],
      "id": "84c2ba4a",
      "execution_count": null,
      "outputs": []
    },
    {
      "cell_type": "markdown",
      "metadata": {},
      "source": [
        "## Bib authors (col 1)"
      ],
      "id": "611e41f6"
    },
    {
      "cell_type": "code",
      "metadata": {},
      "source": [
        "show_column(\"bib_authors\",raw_bib,1,False)"
      ],
      "id": "2a0c72fd",
      "execution_count": null,
      "outputs": []
    },
    {
      "cell_type": "markdown",
      "metadata": {},
      "source": [
        "## Bib year (col 2)\n"
      ],
      "id": "41c1a5dc"
    },
    {
      "cell_type": "code",
      "metadata": {},
      "source": [
        "show_column(\"bib_year\",raw_bib,2,True)"
      ],
      "id": "a8c491e0",
      "execution_count": null,
      "outputs": []
    },
    {
      "cell_type": "markdown",
      "metadata": {},
      "source": [
        "### Cleaning bib_year\n"
      ],
      "id": "b8490f58"
    },
    {
      "cell_type": "code",
      "metadata": {},
      "source": [
        "for i,row in enumerate(raw_bib):\n",
        "    try:\n",
        "        if not int(row[2]) in range(1600,2399):\n",
        "            logger.warning(f\"bib year (col02): {i:6} : Invalid year {row[2]}\")\n",
        "    except ValueError as e:\n",
        "        logger.warning(f\"Subspecies year (col04): {i:6} : {e}\")"
      ],
      "id": "5a7a3ae1",
      "execution_count": null,
      "outputs": []
    },
    {
      "cell_type": "markdown",
      "metadata": {},
      "source": [
        "## Bib title (col 3)\n",
        "\n",
        "* There is something definitely wrong here!\n"
      ],
      "id": "c209002a"
    },
    {
      "cell_type": "code",
      "metadata": {},
      "source": [
        "col_set = set()  # Initialize an empty set to store unique values\n",
        "for row in raw_bib:\n",
        "    fields = row[3].replace(\"\\u001d\",\"\").split(\"\\u000b\")\n",
        "    for field in fields:\n",
        "        col_set.add(field)"
      ],
      "id": "524c1fda",
      "execution_count": null,
      "outputs": []
    },
    {
      "cell_type": "markdown",
      "metadata": {},
      "source": [
        "### A jumble of the first and last records\n"
      ],
      "id": "9eba462d"
    },
    {
      "cell_type": "code",
      "metadata": {},
      "source": [
        "col_list = sorted(list(col_set), key=lambda x: x)\n",
        "show_values(\"External links\",col_list,7,7)"
      ],
      "id": "660dc2c5",
      "execution_count": null,
      "outputs": []
    },
    {
      "cell_type": "markdown",
      "metadata": {},
      "source": [
        "### Sorted with the longest at the end\n"
      ],
      "id": "08d6d538"
    },
    {
      "cell_type": "code",
      "metadata": {},
      "source": [
        "col_list = sorted(list(col_set), key=lambda x: len(x))\n",
        "show_values(\"External links\",col_list,7,7)"
      ],
      "id": "e531e662",
      "execution_count": null,
      "outputs": []
    },
    {
      "cell_type": "markdown",
      "metadata": {},
      "source": [
        "## Bib journal (col 4)"
      ],
      "id": "9f12bf6f"
    },
    {
      "cell_type": "code",
      "metadata": {},
      "source": [
        "show_column(\"bib_journal\",raw_bib,4,False)"
      ],
      "id": "e735ad46",
      "execution_count": null,
      "outputs": []
    },
    {
      "cell_type": "markdown",
      "metadata": {},
      "source": [
        "## Bib URL (col 5)"
      ],
      "id": "c9237d3b"
    },
    {
      "cell_type": "code",
      "metadata": {},
      "source": [
        "show_column(\"bib_url\",raw_bib,5,False)"
      ],
      "id": "76d562ab",
      "execution_count": null,
      "outputs": []
    },
    {
      "cell_type": "markdown",
      "metadata": {},
      "source": [
        "# Creating and testing the database\n",
        "\n",
        "Armed with what we learned above, let's load up the database!  Depending on the *engine_uri* setting above\n",
        "the data will be stored in a local *sqlite* database, or it may be stored directly to a mysql server.\n",
        "\n",
        "\n",
        "```{powershell}\n",
        "## If you installed sqlite3 correctly, you should be able\n",
        "## to run this command:\n",
        "\n",
        "sqlite3\n",
        "\n",
        "# .quit will exit the prompt\n",
        "\n",
        "```\n",
        "\n",
        "\n",
        "## Create SQLAlchemy objects\n",
        "\n",
        "Why use SQLAlchemy?  Our final goal is to write an API server that responses to queries and returns JSON objects.\n",
        "\n",
        "JSON objects are very nice in that they reflect the organization of the data.\n",
        "\n",
        "However, JSON objects are difficult to reconstruct from a relational database.\n",
        "\n",
        "By encapsulating the data in an *object-reference model* or *ORM* provided by tools like SQLAlchemy, we can pull JSON objects\n",
        "directly from the database using queries.  This will greatly streamling the creation of the back and and more importantly, reduce errors.\n",
        "\n",
        "The rather long section below defines the objects and relations between objects.\n"
      ],
      "id": "7a3a5d81"
    },
    {
      "cell_type": "code",
      "metadata": {},
      "source": [
        "# Create SQLAlchemy objects\n",
        "from sqlalchemy import Column, Integer, String, ForeignKey, Table, LargeBinary, UniqueConstraint, Text\n",
        "from sqlalchemy import create_engine\n",
        "from sqlalchemy.orm import relationship, backref, sessionmaker, Session\n",
        "from sqlalchemy.orm import declarative_base\n",
        "\n",
        "Base = declarative_base()\n",
        "\n",
        "reptile_biblio = Table(\n",
        "    \"reptile_biblio\",\n",
        "    Base.metadata,\n",
        "    Column(\"reptile_id\", Integer, ForeignKey(\"reptiles.id\"),index=True),\n",
        "    Column(\"biblio_id\", String(30), ForeignKey(\"bibliography.bib_id\"),index=True),\n",
        ")\n",
        "\n",
        "old_reptile_taxa = Table(\n",
        "    \"reptile_taxa\",\n",
        "    Base.metadata,\n",
        "    Column(\"reptile_id\", Integer, ForeignKey(\"reptiles.id\")),\n",
        "    Column(\"taxa_id\", Integer, ForeignKey(\"taxa.id\")),\n",
        ")\n",
        "\n",
        "class Synonym( Base ):\n",
        "    __tablename__ = \"synonyms\"\n",
        "\n",
        "    id = Column(Integer, primary_key=True, autoincrement=True,index=True)\n",
        "    value = Column(String(4096))\n",
        "    reptile_id = Column( Integer, ForeignKey(\"reptiles.id\") )\n",
        "    \n",
        "    def __init__( self, value ):\n",
        "        self.value = value[:4096]\n",
        "    def __repr__(self):\n",
        "        return f\"<Synonym(id={self.id}), {self.value}>\"\n",
        "\n",
        "class Column7( Base ):\n",
        "    __tablename__ = \"column7\"\n",
        "\n",
        "    id = Column(Integer, primary_key=True, autoincrement=True,index=True)\n",
        "    value = Column(String(255))\n",
        "    reptile_id = Column( Integer, ForeignKey(\"reptiles.id\") )\n",
        "    \n",
        "    def __init__( self, value ):\n",
        "        self.value = value[:255]\n",
        "    def __repr__(self):\n",
        "        return f\"<Synonym(id={self.id}), {self.value}>\"\n",
        "\n",
        "\n",
        "class Comment( Base ):\n",
        "    __tablename__ = \"comments\"\n",
        "\n",
        "    id = Column(Integer, primary_key=True, autoincrement=True)\n",
        "    value = Column(String(8192))\n",
        "    reptile_id = Column( Integer, ForeignKey(\"reptiles.id\") )\n",
        "    \n",
        "    def __init__( self, value ):\n",
        "        self.value = str(value).replace(\"\\u001d\",\"\")[:8000]\n",
        "#        self.value = self.value.encode(\"utf-8\")\n",
        "    def __repr__(self):\n",
        "        return f\"<Comment(id={self.id}), {self.value}>\"\n",
        "\n",
        "class Common_Name( Base ):\n",
        "    __tablename__ = \"common_names\"\n",
        "\n",
        "    id = Column(Integer, primary_key=True, autoincrement=True)\n",
        "    value = Column(String(4096))\n",
        "    reptile_id = Column( Integer, ForeignKey(\"reptiles.id\") )\n",
        "    \n",
        "    def __init__( self, value ):\n",
        "        self.value = value[:4096]\n",
        "    def __repr__(self):\n",
        "        return f\"<Common_Name(id={self.id}), {self.value}>\"\n",
        "\n",
        "class Distribution( Base ):\n",
        "    __tablename__ = \"distributions\"\n",
        "\n",
        "    id = Column(Integer, primary_key=True, autoincrement=True)\n",
        "    value = Column(String(4096))\n",
        "    reptile_id = Column( Integer, ForeignKey(\"reptiles.id\") )\n",
        "    \n",
        "    def __init__( self, value ):\n",
        "        self.value = value[:4096]\n",
        "    def __repr__(self):\n",
        "        return f\"<Distribution(id={self.id}), {self.value}>\"\n",
        "\n",
        "class Diagnosis( Base ):\n",
        "    __tablename__ = \"diagnoses\"\n",
        "\n",
        "    id = Column(Integer, primary_key=True, autoincrement=True)\n",
        "    value = Column(Text(65336))\n",
        "    reptile_id = Column( Integer, ForeignKey(\"reptiles.id\") )\n",
        "    \n",
        "    def __init__( self, value ):\n",
        "        self.value = str(value)[:65335]\n",
        "    def __repr__(self):\n",
        "        return f\"<Diagnosis(id={self.id}), {self.value}>\"\n",
        "\n",
        "class External_Link( Base ):\n",
        "    __tablename__ = \"external_links\"\n",
        "\n",
        "    id = Column(Integer, primary_key=True, autoincrement=True)\n",
        "    value = Column(String(4096))\n",
        "    reptile_id = Column( Integer, ForeignKey(\"reptiles.id\") )\n",
        "    \n",
        "    def __init__( self, value ):\n",
        "        self.value = value[:4096]\n",
        "    def __repr__(self):\n",
        "        return f\"<External_Link(id={self.id}), {self.value}>\"\n",
        "\n",
        "class Specimen( Base ):\n",
        "    __tablename__ = \"specimens\"\n",
        "\n",
        "    id = Column(Integer, primary_key=True, autoincrement=True)\n",
        "    value = Column(String(9000))\n",
        "    reptile_id = Column( Integer, ForeignKey(\"reptiles.id\") )\n",
        "    \n",
        "    def __init__( self, value ):\n",
        "        self.value = str(value).replace(\"\\u001d\",\"\")[:8900]\n",
        "    def __repr__(self):\n",
        "        return f\"<Specimen(id={self.id}), {self.value}>\"\n",
        "\n",
        "class Etymology( Base ):\n",
        "    __tablename__ = \"etymologies\"\n",
        "\n",
        "    id = Column(Integer, primary_key=True, autoincrement=True, index=True)\n",
        "    value = Column(String(4096))\n",
        "    reptile_id = Column( Integer, ForeignKey(\"reptiles.id\") )\n",
        "    \n",
        "    def __init__( self, value ):\n",
        "        self.value = value[:4096]\n",
        "    def __repr__(self):\n",
        "        return f\"<Etymology(id={self.id}), {self.value}>\"\n",
        "\n",
        "\n",
        "class Taxa( Base ):\n",
        "    __tablename__ = \"taxa\"\n",
        "\n",
        "    id = Column(Integer, primary_key=True, autoincrement=True)\n",
        "    value = Column(String(255),index=True,unique=True)\n",
        "\n",
        "    def __init__( self, cols ):\n",
        "        self.value = cols[0][:255]\n",
        "    def __repr__(self):\n",
        "        return f\"<Taxa(id={self.id}), {self.value}>\"\n",
        "\n",
        "    __table_args__ = (\n",
        "        UniqueConstraint('value', name='uq_taxa_value'),\n",
        "    )\n",
        "\n",
        "class Reptile(Base):\n",
        "    __tablename__ = 'reptiles'\n",
        "\n",
        "    id = Column(Integer, primary_key=True, autoincrement=True)\n",
        "#remove    higher_taxa_species = Column(String(4096))\n",
        "    subspecies_1 = Column(String(255))\n",
        "    subspecies_2 = Column(String(255))\n",
        "    subspecies_finder = Column(String(255))\n",
        "    subspecies_year = Column(Integer)\n",
        "    col05 = Column(String(255))\n",
        "#remove    synonym_string = Column(String(4096))\n",
        "#remove    col07 = Column(Text(65536))\n",
        "#remove    common_names_string = Column(String(4096))\n",
        "#remove distribution_string = Column(String(4096))\n",
        "#remove    comment_string = Column(String(4096))\n",
        "#remove    diagnosis_string = Column(String(4096))\n",
        "#remove    types_string = Column(String(4096))\n",
        "#remove    external_links_string = Column(String(4096))\n",
        "#remove    bibliography_ids = Column(String(4096))\n",
        "#remove    etymology_string = Column(String(4096))\n",
        "    col16 = Column(String(255))\n",
        "    col17 = Column(String(255))\n",
        "    reproduction = Column(String(2048))\n",
        "    bibliography = relationship(\n",
        "        \"Biblio\",secondary=reptile_biblio,back_populates=\"reptiles\"\n",
        "    )\n",
        "    taxa_id = Column( Integer, ForeignKey(\"taxa.id\") )\n",
        "    taxa = relationship('Taxa', foreign_keys=[taxa_id], uselist=False)\n",
        "\n",
        "    synonyms = relationship(\"Synonym\",backref=backref(\"reptiles\"))\n",
        "    column7s = relationship(\"Column7\",backref=backref(\"reptiles\"))\n",
        "    comments = relationship(\"Comment\",backref=backref(\"reptiles\"))\n",
        "    common_names = relationship(\"Common_Name\",backref=backref(\"reptiles\"))\n",
        "    distributions = relationship(\"Distribution\",backref=backref(\"reptiles\"))\n",
        "    diagnoses = relationship(\"Diagnosis\",backref=backref(\"reptiles\"))\n",
        "    external_links = relationship(\"External_Link\",backref=backref(\"reptiles\"))\n",
        "    etymologies = relationship(\"Etymology\",backref=backref(\"reptiles\"))\n",
        "    specimens = relationship(\"Specimen\",backref=backref(\"reptiles\"))\n",
        "\n",
        "    def __init__(self, cols ):\n",
        "#remove        self.higher_taxa_species = cols[0]\n",
        "        self.subspecies_1 = str(cols[1])\n",
        "        self.subspecies_2 = str(cols[2])\n",
        "        self.subspecies_finder = str(cols[3])\n",
        "        self.subspecies_year = int(cols[4])\n",
        "        self.col05 = str(cols[5])\n",
        "#remove        self.synonym_string = cols[6]\n",
        "#remove        self.col07 = cols[7].replace(\"\\u001d\",\"\")[:65000]\n",
        "#remove        self.common_names_string = cols[8]\n",
        "#remove        self.distribution_string = cols[9]\n",
        "#remove        self.comment_string = cols[10]\n",
        "#remove        self.diagnosis_string = cols[11]\n",
        "#remove        self.types_string = cols[12]\n",
        "#remove        self.external_links_string = cols[13]\n",
        "#remove        self.bibliography_ids = cols[14]\n",
        "#remove        self.etymology_string = cols[15]\n",
        "        self.col16 = str(cols[16])\n",
        "        self.col17 = str(cols[17])\n",
        "        self.reproduction = str(cols[18])\n",
        "\n",
        "    __table_args__ = (\n",
        "        UniqueConstraint('subspecies_1', 'subspecies_2', name='uq_subspecies_1_subspecies_2'),\n",
        "    )\n",
        "    \n",
        "    def __repr__(self):\n",
        "        return f\"<Reptile(id={self.id}), {self.subspecies_1} {self.subspecies_2}>\"\n",
        "\n",
        "\n",
        "class Biblio( Base ):\n",
        "    __tablename__ = 'bibliography'\n",
        "\n",
        "    bib_id = Column(String(30), primary_key=True,index=True )\n",
        "    bib_authors = Column(String(5000))\n",
        "    bib_year = Column(String(255))\n",
        "    bib_title = Column(Text(65536))\n",
        "    bib_journal = Column(String(512))\n",
        "    bib_url = Column(String(2048))\n",
        "    reptiles = relationship(\"Reptile\",secondary=reptile_biblio,back_populates=\"bibliography\")\n",
        "\n",
        "    def __init__(self, cols ):\n",
        "        self.bib_id = cols[0]\n",
        "        self.bib_authors = cols[1][:2048]\n",
        "        self.bib_year = int(cols[2])\n",
        "        self.bib_title = cols[3].replace(\"\\u001d\",\"\")[:65000]\n",
        "        self.bib_journal = cols[4][:2048]\n",
        "        self.bib_url = cols[5][:2048]\n",
        "\n",
        "    def __repr__(self):\n",
        "        return f\"<Biblio(bib_id={self.bib_id}), {self.bib_authors} {self.bib_year}>\""
      ],
      "id": "7d8e2345",
      "execution_count": null,
      "outputs": []
    },
    {
      "cell_type": "markdown",
      "metadata": {},
      "source": [
        "Now, let's create a database connection and populate the database\n"
      ],
      "id": "e2bbb8ee"
    },
    {
      "cell_type": "code",
      "metadata": {},
      "source": [
        "# engine_uri is set above\n",
        "\n",
        "engine = create_engine(engine_uri)\n",
        "Base.metadata.create_all(engine)\n",
        "\n",
        "Session = sessionmaker()\n",
        "Session.configure(bind=engine)\n",
        "session = Session()"
      ],
      "id": "1377f60a",
      "execution_count": null,
      "outputs": []
    },
    {
      "cell_type": "markdown",
      "metadata": {},
      "source": [
        "First, COMPLETELY load the bibliography\n"
      ],
      "id": "bcf58a3d"
    },
    {
      "cell_type": "code",
      "metadata": {},
      "source": [
        "## Load bibliography.\n",
        "\n",
        "def load_biblio( session, row ):\n",
        "    \"\"\" Load bibliography record into table \"\"\"\n",
        "    biblio = Biblio( row )\n",
        "    session.add(biblio)\n",
        "#    session.commit()\n",
        "\n",
        "session.query(Biblio).delete()\n",
        "\n",
        "for i,row in enumerate(raw_bib):\n",
        "    try:\n",
        "        load_biblio( session, row )\n",
        "    except ValueError as e:\n",
        "        logger.warning(f\"bib record {i}: {e}\")\n",
        "\n",
        "    if (False and not i<100):\n",
        "        break\n",
        "\n",
        "session.commit()"
      ],
      "id": "529ddcac",
      "execution_count": null,
      "outputs": []
    },
    {
      "cell_type": "markdown",
      "metadata": {},
      "source": [
        "Load the reptile records.  Error messages will show biblio ID found \n",
        "in a reptile record that don't match up with any records in the bibliography table.\n",
        "\n",
        "This code gets modified over time as we refactor each record, pulling pieces \n",
        "into their own tables.\n"
      ],
      "id": "16870e11"
    },
    {
      "cell_type": "code",
      "metadata": {},
      "source": [
        "## Load reptiles\n",
        "\n",
        "def clean_field( field ):\n",
        "    field = field.strip()\n",
        "    if field.endswith(\"\\\\\"):\n",
        "        while field.endswith(\"\\\\\"):\n",
        "            field = field[:-1]\n",
        "    return field\n",
        "\n",
        "\n",
        "def load_reptile( session, row ):\n",
        "    \"\"\" load a reptile into table \"\"\"\n",
        "\n",
        "    reptile = Reptile( row )\n",
        "    session.add(reptile)\n",
        " #   session.commit()\n",
        "\n",
        "    # Clean up and split the bibliographies\n",
        "    bibs = row[14].replace(\"\\x1d\", \"\").split(\"\\x0b\")\n",
        "    # Loop over array.\n",
        "    for bib in bibs:\n",
        "        # check if ID is found in biblio DB\n",
        "        found_bib = (\n",
        "            session.query(Biblio)\n",
        "            .filter(Biblio.bib_id == bib)\n",
        "            ).one_or_none()\n",
        "        # If not found, we just found a bug in the original DB\n",
        "        if found_bib is None:\n",
        "            pass\n",
        "##            logger.debug(f\"Bib ID :{bib}: not found in biblio table\" )\n",
        "\n",
        "        # If found, make the connections between the records.\n",
        "        # This represents the SQLAlchemy magic.\n",
        "        else:\n",
        "            reptile.bibliography.append(found_bib)\n",
        "            found_bib.reptiles.append(reptile)\n",
        "#            session.commit()\n",
        "\n",
        "    # Working with higher-taxa\n",
        "    higher_taxa = row[0]\n",
        "#    logger.debug(f\"Searching for {higher_taxa}\")\n",
        "    found_taxa = (session.query(Taxa).filter(Taxa.value==higher_taxa)).one_or_none()\n",
        "    # If not found, add a new record to taxa table\n",
        "    if found_taxa is None:\n",
        "        logger.debug(f\"Adding new taxa: {higher_taxa}\")\n",
        "        found_taxa = Taxa( row )\n",
        "        session.add(found_taxa)\n",
        "#        session.commit()\n",
        "    # connect reptile and taxa\n",
        "    reptile.taxa = found_taxa\n",
        "#    found_taxa.reptiles.append( reptile )\n",
        "\n",
        "    # Working with synonyms\n",
        "    synonyms = row[6].replace(\"\\u001d\",\"\").split(\"\\u000b\")\n",
        "    if synonyms is not None:\n",
        "        for syn in synonyms:\n",
        "            syn = clean_field(syn)\n",
        "            if len(syn)>0:\n",
        "                new_syn = Synonym( syn )\n",
        "                session.add(new_syn)\n",
        "                reptile.synonyms.append( new_syn )\n",
        "\n",
        "    # Working with synonyms\n",
        "    col7 = row[7].replace(\"\\u001d\",\"\").split(\"\\u000b\")\n",
        "    if col7 is not None:\n",
        "        for item in col7:\n",
        "            item = clean_field(item)\n",
        "            if len(item)>0:\n",
        "                field = Column7( item )\n",
        "                session.add(field)\n",
        "                reptile.column7s.append( field )\n",
        "\n",
        "    # Working with common names\n",
        "    names = row[8].replace(\"\\u001d\",\"\").split(\"\\u000b\")\n",
        "    if names is not None:\n",
        "        for name in names:\n",
        "            name = clean_field(name)\n",
        "            if len(name)>0:\n",
        "                new_name = Common_Name( name )\n",
        "                session.add(new_name)\n",
        "                reptile.common_names.append( new_name )\n",
        "\n",
        "    # Working with distributions\n",
        "    distributions = row[9].replace(\"\\u001d\",\"\").split(\"\\u000b\")\n",
        "    if distributions is not None:\n",
        "        for dist in distributions:\n",
        "            dist = clean_field(dist)\n",
        "            if len(dist)>0:\n",
        "                new_dist = Distribution( dist )\n",
        "                session.add(new_dist)\n",
        "                reptile.distributions.append( new_dist )\n",
        "\n",
        "    # Working with comments\n",
        "    comments = row[10].replace(\"\\u001d\",\"\").split(\"\\u000b\")\n",
        "    if comments is not None:\n",
        "        for comm in comments:\n",
        "            comm = clean_field(comm)\n",
        "            if len(comm)>0:\n",
        "                new_comm = Comment( comm )\n",
        "                session.add(new_comm)\n",
        "#                session.commit()\n",
        "                reptile.comments.append( new_comm )\n",
        "\n",
        "    # Working with diagnoses\n",
        "    diagnoses = row[11].replace(\"\\u001d\",\"\").split(\"\\u000b\")\n",
        "    if diagnoses is not None:\n",
        "        for diag in diagnoses:\n",
        "            diag = clean_field(diag)\n",
        "            if len(diag)>0:\n",
        "                new_diag = Diagnosis( diag )\n",
        "                session.add(new_diag)\n",
        "                reptile.diagnoses.append( new_diag )\n",
        "\n",
        "    # Working with external_links\n",
        "    urls = row[13].replace(\"\\u001d\",\"\").split(\"\\u000b\")\n",
        "    if urls is not None:\n",
        "        for url in urls:\n",
        "            url = clean_field(url)\n",
        "            if len(url)>0:\n",
        "                new_url = External_Link( url )\n",
        "                session.add(new_url)\n",
        "                reptile.external_links.append( new_url )\n",
        "\n",
        "    # Working with etymologies\n",
        "    etymologies = row[15].replace(\"\\u001d\",\"\").split(\"\\u000b\")\n",
        "    if etymologies is not None:\n",
        "        for ety in etymologies:\n",
        "            ety = clean_field(ety)\n",
        "            if len(ety)>0:\n",
        "                new_ety = Etymology( ety )\n",
        "                session.add(new_ety)\n",
        "                reptile.etymologies.append( new_ety )\n",
        "\n",
        "    # Working with specimens\n",
        "    specimens = row[12].replace(\"\\u001d\",\"\").split(\"\\u000b\")\n",
        "    if specimens is not None:\n",
        "        for spec in specimens:\n",
        "            spec = clean_field(spec)\n",
        "            if len(spec)>0:\n",
        "                new_spec = Specimen( spec )\n",
        "                session.add(new_spec)\n",
        "                reptile.specimens.append( new_spec )\n",
        "\n",
        "\n",
        "#    session.commit()\n",
        "\n",
        "# Clear out the old table before loading.  This minimizes primary key errors\n",
        "\n",
        "logger.debug(f\"rows to process: {len(raw_db)}\")\n",
        "\n",
        "for i,row in enumerate(raw_db):\n",
        "    try:\n",
        "        load_reptile( session, row )\n",
        "    except ValueError as e:\n",
        "        logger.warning(f\"reptile record {i}: {e}\")\n",
        "\n",
        "    if i % 500 == 0:\n",
        "#        logger.debug(f\"{i:5}\")\n",
        "        session.commit()\n",
        "\n",
        "    if (Testing and (not i<200)):\n",
        "        logger.warning(f\"TESTING: subset of records loaded.  See line referenced by this warning.\")\n",
        "        break\n",
        "\n",
        "\n",
        "session.commit()"
      ],
      "id": "74acde64",
      "execution_count": null,
      "outputs": []
    },
    {
      "cell_type": "markdown",
      "metadata": {},
      "source": [
        "## Exploring decoding\n",
        "\n",
        "The following sections are used for help identify opportunities for additional decodes and to make sure\n",
        "that we're unpacking each of the fields correctly.\n",
        "\n",
        "Study the individual elements in each list.  Note that many of the fields encode a descriptor,\n",
        "for example, *elevation*, *photo*, *location*, etc.\n",
        "\n",
        "In the interest of *hardening* the database:\n",
        "\n",
        "* should we more explicitly unpack these types, ensuring\n",
        "that users can only select from a limited number?  Or,\n",
        "\n",
        "* should we leave these fields fast and loose so that new fields can be added on the fly.\n",
        "\n",
        "See: <https://realpython.com/python-sqlite-sqlalchemy/#working-with-sqlalchemy-and-python-objects>\n"
      ],
      "id": "f29dc3ca"
    },
    {
      "cell_type": "code",
      "metadata": {},
      "source": [
        "#| echo: false\n",
        "\n",
        "first_reptile = session.query(Reptile).first()\n",
        "\n",
        "# Dump a single record to JSON\n",
        "def sqlalchemy_object_to_dict(obj):\n",
        "    ignore_fields = ['bibliography_ids','taxa_id']\n",
        "    if obj is None:\n",
        "        return None\n",
        "\n",
        "    if isinstance(obj, list):\n",
        "        return [sqlalchemy_object_to_dict(item) for item in obj]\n",
        "\n",
        "    if hasattr(obj, '__dict__'):\n",
        "        data = obj.__dict__.copy()\n",
        "        # Remove private attributes and SQLAlchemy-specific attributes\n",
        "        for key in list(data.keys()):\n",
        "            if key.startswith('_') or key == 'metadata' or key in ignore_fields:\n",
        "                del data[key]\n",
        "\n",
        "        # Recursively convert nested objects\n",
        "        for key, value in data.items():\n",
        "            if isinstance(value, list):\n",
        "                data[key] = [sqlalchemy_object_to_dict(item) for item in value]\n",
        "            elif hasattr(value, '__dict__'):\n",
        "                data[key] = sqlalchemy_object_to_dict(value)\n",
        "\n",
        "        return data\n",
        "\n",
        "    return obj\n",
        "\n",
        "    \n",
        "def review( f1, f2 ):\n",
        "    try:\n",
        "        # Code that may raise an AttributeError\n",
        "        print( json.dumps(sqlalchemy_object_to_dict( getattr(first_reptile,f1)),indent=4) )\n",
        "    except AttributeError as e:\n",
        "        # Handle the exception here\n",
        "        print(f\"An AttributeError occurred: {e}\")\n",
        "    try:\n",
        "        # Code that may raise an AttributeError\n",
        "        print( json.dumps(sqlalchemy_object_to_dict( getattr(first_reptile,f2)),indent=4) )\n",
        "    except AttributeError as e:\n",
        "        # Handle the exception here\n",
        "        print(f\"An AttributeError occurred: {e}\")"
      ],
      "id": "05594498",
      "execution_count": null,
      "outputs": []
    },
    {
      "cell_type": "markdown",
      "metadata": {},
      "source": [
        "### Common names\n",
        "\n",
        "* How should we restructure this table?\n"
      ],
      "id": "d6cf04ed"
    },
    {
      "cell_type": "code",
      "metadata": {},
      "source": [
        "review( \"common_names_string\",\"common_names\")"
      ],
      "id": "c94b1c6d",
      "execution_count": null,
      "outputs": []
    },
    {
      "cell_type": "markdown",
      "metadata": {},
      "source": [
        "### Geographic Distribution\n",
        "\n",
        "* How should we restructure this table?\n"
      ],
      "id": "754b0aaa"
    },
    {
      "cell_type": "code",
      "metadata": {},
      "source": [
        "review( \"distribution_string\",\"distributions\")"
      ],
      "id": "74551acb",
      "execution_count": null,
      "outputs": []
    },
    {
      "cell_type": "markdown",
      "metadata": {},
      "source": [
        "### Diagnoses\n",
        "\n",
        "* How should we restructure this table?\n"
      ],
      "id": "9076abba"
    },
    {
      "cell_type": "code",
      "metadata": {},
      "source": [
        "review( \"diagnosis_string\",\"diagnoses\")"
      ],
      "id": "d1ac68eb",
      "execution_count": null,
      "outputs": []
    },
    {
      "cell_type": "markdown",
      "metadata": {},
      "source": [
        "### External URLs\n",
        "\n",
        "* How should we restructure this table?\n"
      ],
      "id": "63fa3a40"
    },
    {
      "cell_type": "code",
      "metadata": {},
      "source": [
        "review( \"external_links_string\",\"external_links\")"
      ],
      "id": "9dd03916",
      "execution_count": null,
      "outputs": []
    },
    {
      "cell_type": "markdown",
      "metadata": {},
      "source": [
        "### Etymologies\n",
        "\n",
        "* How should we restructure this table?\n"
      ],
      "id": "6639b947"
    },
    {
      "cell_type": "code",
      "metadata": {},
      "source": [
        "review( \"etymology_string\",\"etymologies\")"
      ],
      "id": "e9d97a5a",
      "execution_count": null,
      "outputs": []
    },
    {
      "cell_type": "markdown",
      "metadata": {},
      "source": [
        "### Type Specimens\n"
      ],
      "id": "ee09bcc7"
    },
    {
      "cell_type": "code",
      "metadata": {},
      "source": [
        "review( \"types_string\",\"specimens\")"
      ],
      "id": "50a30e7f",
      "execution_count": null,
      "outputs": []
    },
    {
      "cell_type": "markdown",
      "metadata": {},
      "source": [
        "# Output practice\n",
        "\n",
        "Now that we've got a database loaded.  Let's experiment with working with the data.\n",
        "\n",
        "The examples below will help with creation of the API.\n",
        "\n",
        "## Examples of referencing fields of the ORM\n",
        "\n",
        "SQLAlchemy uses an object-reference model (ORM).  Without much work, it makes\n",
        "it easy to address elements across database tables.\n",
        "\n",
        "Below are a few examples, printing out the first record of the database.\n"
      ],
      "id": "a1ce1e83"
    },
    {
      "cell_type": "code",
      "metadata": {},
      "source": [
        "first_reptile = session.query(Reptile).first()\n",
        "\n",
        "print(first_reptile)\n",
        "for field_name in ['subspecies_1','subspecies_2','subspecies_year']:\n",
        "    print(f\"{field_name:>15s} : {getattr(first_reptile,field_name)}\")\n",
        "print(f\"           Taxa : {first_reptile.taxa.value}\")\n",
        "print(f\"     References :\")\n",
        "for bib in first_reptile.bibliography:\n",
        "    print(f\"{bib.bib_id:>15s} : {bib.bib_authors},{bib.bib_year}\")\n",
        "print(f\"       Synonyms :\")\n",
        "for syn in first_reptile.synonyms:\n",
        "    print(f\"{syn.id:>15d} : {syn.value}\")\n",
        "print(f\"       Comments :\")\n",
        "for comm in first_reptile.comments:\n",
        "    print(f\"{comm.id:>15d} : {comm.value}\")\n",
        "\n",
        "print(f\"        Column7 :\")\n",
        "for comm in first_reptile.column7s:\n",
        "    print(f\"{comm.id:>15d} : {comm.value}\")"
      ],
      "id": "54bb7081",
      "execution_count": null,
      "outputs": []
    },
    {
      "cell_type": "markdown",
      "metadata": {},
      "source": [
        "## Example JSON output.\n",
        "\n",
        "Write a record out as JSON, simulating a API query.  This offers\n",
        "an example of what the API server will return.\n",
        "\n",
        "We'll be doing TONS of this in the flask API application.\n"
      ],
      "id": "b4cd6530"
    },
    {
      "cell_type": "code",
      "metadata": {},
      "source": [
        "o = sqlalchemy_object_to_dict(first_reptile)\n",
        "\n",
        "print( json.dumps(o,indent=4) )\n"
      ],
      "id": "c9bd8abe",
      "execution_count": null,
      "outputs": []
    }
  ],
  "metadata": {
    "kernelspec": {
      "name": "python3",
      "language": "python",
      "display_name": "Python 3 (ipykernel)"
    }
  },
  "nbformat": 4,
  "nbformat_minor": 5
}