{
  "cells": [
    {
      "cell_type": "raw",
      "metadata": {},
      "source": [
        "---\n",
        "title: \"Decoding the reptile database\"\n",
        "author: John Leonard\n",
        "date: last-modified\n",
        "---"
      ],
      "id": "1acc8db0"
    },
    {
      "cell_type": "markdown",
      "metadata": {},
      "source": [
        "Decoding the reptile database, especially figuring out how to extract the contents is tricky.  \n",
        "\n",
        "Through this QMD we'll play a process of discovery, unpacking data as necessary.  \n",
        "\n",
        "When we're done, we'll have the python code we need to extract these data and push them into a database.\n",
        "\n",
        "# References and tools\n",
        "\n",
        "To get started you'll need to get all these tools set up.\n",
        "\n",
        "### Python, Poetry and quarto\n",
        "\n",
        "1. <https://github.com/vcu-ssg/ssg-quarto-python-setup>\n",
        "\n",
        "\n",
        "### Sqlite3 and tools\n",
        "\n",
        "1. <https://www.sqlitetutorial.net/download-install-sqlite/>\n",
        "1. I use choco.\n",
        "    a. choco install sqlite\n",
        "    a. choco install sqlite.shell\n",
        "\n",
        "### Detailed tutorial for python, sqllite, sqlalchemy and flask\n",
        "\n",
        "1. <https://realpython.com/python-sqlite-sqlalchemy/>\n",
        "\n",
        "\n",
        "# Exploring the reptile database TXT files.\n",
        "\n",
        "We're provided with two TXT files, each loaded with encoded information.  We need to decode these files, clean\n",
        "them up and push them into a database.\n",
        "\n",
        "For this analysis, copies of the original files are stored in this directory alongside the QMD files.\n"
      ],
      "id": "b6fca79e"
    },
    {
      "cell_type": "code",
      "metadata": {},
      "source": [
        "import os\n",
        "import json\n",
        "from utils import load_file\n",
        "from loguru import logger\n",
        "from dotenv import load_dotenv"
      ],
      "id": "83e6dc50",
      "execution_count": null,
      "outputs": []
    },
    {
      "cell_type": "markdown",
      "metadata": {},
      "source": [
        "Load file names and testing flags from configuration file.\n"
      ],
      "id": "68d652ca"
    },
    {
      "cell_type": "code",
      "metadata": {},
      "source": [
        "def load_config(file_path):\n",
        "    with open(file_path, 'r') as file:\n",
        "        return json.load(file)\n",
        "\n",
        "config_path = os.path.join(\"./\", 'config.json')\n",
        "config = load_config(config_path)\n",
        "source_database_txt  = config['database']\n",
        "source_bibliography_txt = config['bibliography']\n",
        "\n",
        "Testing = config[\"db_testing_flag\"];\n",
        "\n",
        "## source_database_txt = \"reptile_database_2023_09.txt\"\n",
        "## source_bibliography_txt = \"reptile_database_bibliography_2023_09.txt\""
      ],
      "id": "de2b263c",
      "execution_count": null,
      "outputs": []
    },
    {
      "cell_type": "markdown",
      "metadata": {},
      "source": [
        "Load the database credentials from a .ENV file stored OUTSIDE the repo.\n"
      ],
      "id": "12e8d22f"
    },
    {
      "cell_type": "code",
      "metadata": {},
      "source": [
        "config_map = {\n",
        "    'user':'REPTILEDB_USER',\n",
        "    'password':'REPTILEDB_PASSWORD',\n",
        "    'host':'REPTILEDB_HOST',\n",
        "    'database':'REPTILEDB_DB_NAME'\n",
        "}\n",
        "# load and store credentials\n",
        "load_dotenv()\n",
        "config = {}\n",
        "for key in config_map.keys():\n",
        "    config[key] = os.getenv(config_map[key])\n",
        "flag = False\n",
        "for param in config.keys():\n",
        "    if config[param] is None:\n",
        "        flag = True\n",
        "        print(f\"Missing {config_map[param]} in .env file\")\n",
        "\n",
        "# build a sqlalchemy engine string\n",
        "mysql_uri = f\"mysql+pymysql://{config['user']}:{config['password']}@{config['host']}/{config['database']}\"\n",
        "sqlite_uri = f\"sqlite:///reptile.db\"\n",
        "\n",
        "## Engine_URI determines where the data are stored.\n",
        "## SQLITE is much faster and good for local use and debugging.\n",
        "## Mysql will store data on CMSC508.  The current loading strategy is really slow.\n",
        "## It might be better to store to SQLITE, dump SQL and load from DUMP to MySQL.\n",
        "\n",
        "## engine_uri = mysql_uri\n",
        "engine_uri = sqlite_uri"
      ],
      "id": "a41a8ae9",
      "execution_count": null,
      "outputs": []
    },
    {
      "cell_type": "markdown",
      "metadata": {},
      "source": [
        "## Load the files\n"
      ],
      "id": "1891315c"
    },
    {
      "cell_type": "code",
      "metadata": {},
      "source": [
        "raw_db = load_file( source_database_txt )\n",
        "raw_bib = load_file( source_bibliography_txt )"
      ],
      "id": "61d5bea5",
      "execution_count": null,
      "outputs": []
    },
    {
      "cell_type": "markdown",
      "metadata": {},
      "source": [
        "Metrics about the database file\n"
      ],
      "id": "dc736c57"
    },
    {
      "cell_type": "code",
      "metadata": {},
      "source": [
        "#| echo: false\n",
        "print(f\"\"\"\n",
        "file: {source_database_txt}\n",
        "rows: {len(raw_db)}\n",
        "cols: {len(raw_db[0])}\n",
        "\"\"\")"
      ],
      "id": "cb01a03c",
      "execution_count": null,
      "outputs": []
    },
    {
      "cell_type": "markdown",
      "metadata": {},
      "source": [
        "And the bibliography file.\n"
      ],
      "id": "ad009183"
    },
    {
      "cell_type": "code",
      "metadata": {},
      "source": [
        "#| echo: false\n",
        "print(f\"\"\"\n",
        "file: {source_bibliography_txt}\n",
        "rows: {len(raw_bib)}\n",
        "cols: {len(raw_bib[0])}\n",
        "\"\"\")"
      ],
      "id": "46ba7400",
      "execution_count": null,
      "outputs": []
    },
    {
      "cell_type": "markdown",
      "metadata": {},
      "source": [
        "## First pass over the TXT files\n",
        "\n",
        "### Reptile DB - identifying columns\n",
        "\n",
        "Let's look at the first row.\n"
      ],
      "id": "de690069"
    },
    {
      "cell_type": "code",
      "metadata": {},
      "source": [
        "db_names = []\n",
        "for i,field in enumerate(raw_db[0]):\n",
        "    print(f\"col{i:02}: {field}\")\n",
        "    db_names.append(f\"col{i:02}\")"
      ],
      "id": "71780ad5",
      "execution_count": null,
      "outputs": []
    },
    {
      "cell_type": "markdown",
      "metadata": {},
      "source": [
        "OK, now it's time to name the columns\n"
      ],
      "id": "c9585ba5"
    },
    {
      "cell_type": "code",
      "metadata": {},
      "source": [
        "db_names = [\n",
        "    'Higher Taxa Species', \n",
        "    'subspecies_1', \n",
        "    'subspecies_2', \n",
        "    'subspecies_finder', \n",
        "    'subspecies_year', \n",
        "    'col05', \n",
        "    'Synonym (tab-delimited)', \n",
        "    'col07', \n",
        "    'Common Names (encoded)', \n",
        "    'Distribution', \n",
        "    'Comments (encoded)', \n",
        "    'Diagnosis (encoded)', \n",
        "    'Types (encoded)', \n",
        "    'external links (encoded)', \n",
        "    'biblography ids (encoded)', \n",
        "    'Etymology', \n",
        "    'col16',\n",
        "    'col17', \n",
        "    'Reproduction'\n",
        "    ]"
      ],
      "id": "89b620ec",
      "execution_count": null,
      "outputs": []
    },
    {
      "cell_type": "markdown",
      "metadata": {},
      "source": [
        "Now let's align the names with the data to see what we get.\n"
      ],
      "id": "d8c96341"
    },
    {
      "cell_type": "code",
      "metadata": {},
      "source": [
        "for i,field in enumerate(raw_db[0]):\n",
        "    print(f\"{db_names[i]:>25} : {field}\")"
      ],
      "id": "b55fd8e4",
      "execution_count": null,
      "outputs": []
    },
    {
      "cell_type": "markdown",
      "metadata": {},
      "source": [
        "Looking good!  Next steps:\n",
        "\n",
        "1. name the unknown columns,\n",
        "2. unpack encoded links into sublists.\n",
        "3. consider creating objects for each row.\n",
        "4. Fire up SQLAlchemy to connect objects to database\n",
        "5. Unpack rows and load the database!\n",
        "\n",
        "## Bibliography file\n",
        "\n",
        "Let's look at the first row.\n"
      ],
      "id": "de83bcfa"
    },
    {
      "cell_type": "code",
      "metadata": {},
      "source": [
        "bib_names = []\n",
        "for i,field in enumerate(raw_bib[0]):\n",
        "    print(f\"col{i:02}: {field}\")\n",
        "    bib_names.append(f\"col{i:02}\")"
      ],
      "id": "be6f00a6",
      "execution_count": null,
      "outputs": []
    },
    {
      "cell_type": "markdown",
      "metadata": {},
      "source": [
        "OK, now it's time to name the rows.\n"
      ],
      "id": "d49dd957"
    },
    {
      "cell_type": "code",
      "metadata": {},
      "source": [
        "bib_names = [\n",
        "    'bib_id', \n",
        "    'bib_authors', \n",
        "    'bib_year', \n",
        "    'bib_title', \n",
        "    'bib_journal', \n",
        "    'bib_url'\n",
        "]"
      ],
      "id": "8b391288",
      "execution_count": null,
      "outputs": []
    },
    {
      "cell_type": "markdown",
      "metadata": {},
      "source": [
        "Now let's align the names with the data to see what we get.\n"
      ],
      "id": "c7f76959"
    },
    {
      "cell_type": "code",
      "metadata": {},
      "source": [
        "for i,field in enumerate(raw_bib[0]):\n",
        "    print(f\"{bib_names[i]:>25} : {field}\")"
      ],
      "id": "dba7dee0",
      "execution_count": null,
      "outputs": []
    },
    {
      "cell_type": "markdown",
      "metadata": {},
      "source": [
        "# Data Cleaning exploring and cleaning\n",
        "\n",
        "After working with the data, we've seen lots of messiness.  In the sections below present the messiness and would like guidance on how to clean it up.\n"
      ],
      "id": "ff0847fd"
    },
    {
      "cell_type": "code",
      "metadata": {},
      "source": [
        "#| echo: false\n",
        "# These helpers are used later.  They are not echoed out.\n",
        "def show_values(description,values,top=7,bot=7 ):\n",
        "    item_count = len(values)\n",
        "    max_item_length = 0\n",
        "    for value in values:\n",
        "        max_item_length = max( max_item_length,len(value) )\n",
        "    print(description)\n",
        "    print(f\"Number of unique rows: {item_count}\")\n",
        "    print(f\"Longest row: {max_item_length}\")\n",
        "    for i in range(0,min(top,item_count)):\n",
        "        print(f\"{i+1:6}. {values[i].encode('utf-8')}\")\n",
        "    print(\"...\")\n",
        "    if item_count>top+bot:\n",
        "        for i in range(item_count-bot,item_count):\n",
        "            print(f\"{i+1:6}. {values[i].encode('utf-8')}\")\n",
        "\n",
        "def show_column( description,items,col_id,sort=True ):\n",
        "    col_set = set()  # Initialize an empty set to store unique values\n",
        "    for i,row in enumerate(items):\n",
        "        col_set.add(row[col_id])\n",
        "    if sort:\n",
        "        col_list = sorted(list(col_set))\n",
        "    else:\n",
        "        col_list = list(col_set)\n",
        "    show_values(description,col_list,7,7)"
      ],
      "id": "19dd07d9",
      "execution_count": null,
      "outputs": []
    },
    {
      "cell_type": "markdown",
      "metadata": {},
      "source": [
        "## Initial cleanup\n",
        "\n",
        "Let's do some final cleanup on both lists, removing leading and trailing whitespace,\n",
        "and removing any trailing \"\\\"\n"
      ],
      "id": "72635dc5"
    },
    {
      "cell_type": "code",
      "metadata": {},
      "source": [
        "def clean_all_rows(dblist):\n",
        "    for row_index in range(len(dblist)):\n",
        "        for field_index in range(len(dblist[row_index])):\n",
        "            field = dblist[row_index][field_index]\n",
        "            oldfield = field\n",
        "            field = field.strip()\n",
        "            while field.endswith(\"\\\\\"):\n",
        "                field = field[:-1]\n",
        "            # Assign the modified field back to the original position in dblist\n",
        "            dblist[row_index][field_index] = field\n",
        "    return dblist\n",
        "\n",
        "raw_db = clean_all_rows( raw_db )\n",
        "raw_bib = clean_all_rows( raw_bib )"
      ],
      "id": "6e0db69f",
      "execution_count": null,
      "outputs": []
    },
    {
      "cell_type": "markdown",
      "metadata": {},
      "source": [
        "## Taxa (col 0)\n",
        "\n",
        "* How should higher-taxa be coded?  That is, should we keep it in one entry, or do we separate it out into fields?\n",
        "\n",
        "My guess is that it should stay whole like it currently is.\n",
        "\n",
        "Below is a sample drop of a few records of Taxa.\n"
      ],
      "id": "b8f89d95"
    },
    {
      "cell_type": "code",
      "metadata": {},
      "source": [
        "show_column(\"Taxa\", raw_db,0, True )"
      ],
      "id": "660e9b32",
      "execution_count": null,
      "outputs": []
    },
    {
      "cell_type": "markdown",
      "metadata": {},
      "source": [
        "## Subspecies 1 (col 1)\n",
        "\n",
        "This all looks OK.\n"
      ],
      "id": "988012f0"
    },
    {
      "cell_type": "code",
      "metadata": {},
      "source": [
        "show_column(\"Subspecies 1\", raw_db,1, False )"
      ],
      "id": "683f54f6",
      "execution_count": null,
      "outputs": []
    },
    {
      "cell_type": "markdown",
      "metadata": {},
      "source": [
        "## Subspecies 2 (col 2)\n",
        "\n",
        "This all looks OK.\n"
      ],
      "id": "6dc4e6fc"
    },
    {
      "cell_type": "code",
      "metadata": {},
      "source": [
        "show_column(\"Subspecies 2\", raw_db,2, False )"
      ],
      "id": "c9bbcae9",
      "execution_count": null,
      "outputs": []
    },
    {
      "cell_type": "markdown",
      "metadata": {},
      "source": [
        "## Subspecies_finder (col 3)\n",
        "\n",
        "This all looks OK.\n"
      ],
      "id": "1625dd36"
    },
    {
      "cell_type": "code",
      "metadata": {},
      "source": [
        "show_column(\"Subspecies 2\", raw_db,3, False )"
      ],
      "id": "d51590d2",
      "execution_count": null,
      "outputs": []
    },
    {
      "cell_type": "markdown",
      "metadata": {},
      "source": [
        "## Subspecies_year (col 4)\n"
      ],
      "id": "b525f97b"
    },
    {
      "cell_type": "code",
      "metadata": {},
      "source": [
        "col_set = set()  # Initialize an empty set to store unique values\n",
        "for row in raw_db:\n",
        "    col_set.add(row[4])\n",
        "col_list = sorted(list(col_set), key=lambda x: len(x))\n",
        "\n",
        "show_values(\"Subspecies year\",col_list,7,7)"
      ],
      "id": "50853b09",
      "execution_count": null,
      "outputs": []
    },
    {
      "cell_type": "markdown",
      "metadata": {},
      "source": [
        "Note that there is an incorrect value in here!  Time to track it down and clean it up!\n",
        "\n",
        "### Cleaning subspecies_year\n"
      ],
      "id": "0129679e"
    },
    {
      "cell_type": "code",
      "metadata": {},
      "source": [
        "for i,row in enumerate(raw_db):\n",
        "    try:\n",
        "        if not int(row[4]) in range(1600,2399):\n",
        "            logger.warning(f\"Subspecies year (col04): {i:6} : Invalid year\")\n",
        "    except ValueError as e:\n",
        "        logger.warning(f\"Subspecies year (col04): {i:6} : {e}\")"
      ],
      "id": "1eae06fc",
      "execution_count": null,
      "outputs": []
    },
    {
      "cell_type": "markdown",
      "metadata": {},
      "source": [
        "## Column 5\n",
        "\n",
        "* What is this field?  How is it used?  How should it be coded?\n"
      ],
      "id": "c536b723"
    },
    {
      "cell_type": "code",
      "metadata": {},
      "source": [
        "show_column(\"Unknown Column 5\",raw_db,5)"
      ],
      "id": "5bb0848d",
      "execution_count": null,
      "outputs": []
    },
    {
      "cell_type": "markdown",
      "metadata": {},
      "source": [
        "## Synonyms (col 6)\n",
        "\n",
        "* There is some goofy data inside here!  How do we clean?\n",
        "\n",
        "Some of the records include references, others don't.\n"
      ],
      "id": "07f6403d"
    },
    {
      "cell_type": "code",
      "metadata": {},
      "source": [
        "col_set = set()  # Initialize an empty set to store unique values\n",
        "for row in raw_db:\n",
        "    synonyms = row[6].replace(\"\\u001d\",\"\").split(\"\\u000b\")\n",
        "    for syn in synonyms:\n",
        "        col_set.add(syn)"
      ],
      "id": "88e54824",
      "execution_count": null,
      "outputs": []
    },
    {
      "cell_type": "markdown",
      "metadata": {},
      "source": [
        "### A jumble of the first and last records\n"
      ],
      "id": "d7481d5c"
    },
    {
      "cell_type": "code",
      "metadata": {},
      "source": [
        "col_list = sorted(list(col_set), key=lambda x: x)\n",
        "show_values(\"Synonyms\",col_list,7,7)"
      ],
      "id": "ed847d99",
      "execution_count": null,
      "outputs": []
    },
    {
      "cell_type": "markdown",
      "metadata": {},
      "source": [
        "### Sorted with the longest at the end"
      ],
      "id": "e57a1816"
    },
    {
      "cell_type": "code",
      "metadata": {},
      "source": [
        "col_list = sorted(list(col_set), key=lambda x: len(x))\n",
        "show_values(\"Synonyms\",col_list,7,7)"
      ],
      "id": "468f4833",
      "execution_count": null,
      "outputs": []
    },
    {
      "cell_type": "markdown",
      "metadata": {},
      "source": [
        "### Column 7\n",
        "\n",
        "* This looks like encoded references of some sort.\n"
      ],
      "id": "beb216ac"
    },
    {
      "cell_type": "code",
      "metadata": {},
      "source": [
        "col_set = set()  # Initialize an empty set to store unique values\n",
        "for row in raw_db:\n",
        "    synonyms = row[7].replace(\"\\u001d\",\"\").split(\"\\u000b\")\n",
        "    for syn in synonyms:\n",
        "        col_set.add(syn)"
      ],
      "id": "c30fddf3",
      "execution_count": null,
      "outputs": []
    },
    {
      "cell_type": "markdown",
      "metadata": {},
      "source": [
        "### A jumble of the first and last records\n"
      ],
      "id": "6e428f37"
    },
    {
      "cell_type": "code",
      "metadata": {},
      "source": [
        "col_list = sorted(list(col_set), key=lambda x: x)\n",
        "show_values(\"Column 7\",col_list,7,7)"
      ],
      "id": "5015e107",
      "execution_count": null,
      "outputs": []
    },
    {
      "cell_type": "markdown",
      "metadata": {},
      "source": [
        "### Sorted with the longest at the end"
      ],
      "id": "b21f9b4d"
    },
    {
      "cell_type": "code",
      "metadata": {},
      "source": [
        "col_list = sorted(list(col_set), key=lambda x: len(x))\n",
        "show_values(\"Column 7\",col_list,7,7)"
      ],
      "id": "d6120d2a",
      "execution_count": null,
      "outputs": []
    },
    {
      "cell_type": "markdown",
      "metadata": {},
      "source": [
        "## Common Names (col 8)\n",
        "\n",
        "* How should we handle different languages?\n",
        "\n",
        "I recommend adding a field for language, e.g, EN, SP, GR, etc.\n",
        "\n",
        "Note however, that some of the leading *xxx:* field names do not represent real languages.  It appears\n",
        "that in some cases, these represent the author of the paper that used the particular name.\n"
      ],
      "id": "82d6ec7f"
    },
    {
      "cell_type": "code",
      "metadata": {},
      "source": [
        "col_set = set()  # Initialize an empty set to store unique values\n",
        "for row in raw_db:\n",
        "    names = row[8].replace(\"\\u001d\",\"\").split(\"\\u000b\")\n",
        "    for name in names:\n",
        "        col_set.add(name)"
      ],
      "id": "ddb49cbc",
      "execution_count": null,
      "outputs": []
    },
    {
      "cell_type": "markdown",
      "metadata": {},
      "source": [
        "### A jumble of the first and last records\n"
      ],
      "id": "ef90551f"
    },
    {
      "cell_type": "code",
      "metadata": {},
      "source": [
        "col_list = sorted(list(col_set), key=lambda x: x)\n",
        "show_values(\"Common names\",col_list,7,7)"
      ],
      "id": "a3d5a706",
      "execution_count": null,
      "outputs": []
    },
    {
      "cell_type": "markdown",
      "metadata": {},
      "source": [
        "### Sorted with the longest at the end\n",
        "\n",
        "* What do we do with these longer strings?\n",
        "\n",
        "* Are they actually a list of common names?\n",
        "\n",
        "* If so, should these be separated out and encoded separately?\n"
      ],
      "id": "8dd5ea61"
    },
    {
      "cell_type": "code",
      "metadata": {},
      "source": [
        "col_list = sorted(list(col_set), key=lambda x: len(x))\n",
        "show_values(\"Common names\",col_list,7,7)"
      ],
      "id": "7d8f96c3",
      "execution_count": null,
      "outputs": []
    },
    {
      "cell_type": "markdown",
      "metadata": {},
      "source": [
        "## Distribution (col 9)\n"
      ],
      "id": "547edcba"
    },
    {
      "cell_type": "code",
      "metadata": {},
      "source": [
        "col_set = set()  # Initialize an empty set to store unique values\n",
        "for row in raw_db:\n",
        "    fields = row[9].replace(\"\\u001d\",\"\").split(\"\\u000b\")\n",
        "    for field in fields:\n",
        "        col_set.add(field)"
      ],
      "id": "4604f0b1",
      "execution_count": null,
      "outputs": []
    },
    {
      "cell_type": "markdown",
      "metadata": {},
      "source": [
        "### A jumble of the first and last records\n"
      ],
      "id": "742db68f"
    },
    {
      "cell_type": "code",
      "metadata": {},
      "source": [
        "col_list = sorted(list(col_set), key=lambda x: x)\n",
        "show_values(\"Distribution\",col_list,7,7)"
      ],
      "id": "1dcbca08",
      "execution_count": null,
      "outputs": []
    },
    {
      "cell_type": "markdown",
      "metadata": {},
      "source": [
        "### Sorted with the longest at the end\n"
      ],
      "id": "3ea791a9"
    },
    {
      "cell_type": "code",
      "metadata": {},
      "source": [
        "col_list = sorted(list(col_set), key=lambda x: len(x))\n",
        "show_values(\"Distribution\",col_list,7,7)"
      ],
      "id": "2be6b16f",
      "execution_count": null,
      "outputs": []
    },
    {
      "cell_type": "markdown",
      "metadata": {},
      "source": [
        "## Comments (col 10)\n"
      ],
      "id": "baa6de20"
    },
    {
      "cell_type": "code",
      "metadata": {},
      "source": [
        "col_set = set()  # Initialize an empty set to store unique values\n",
        "for row in raw_db:\n",
        "    fields = row[10].replace(\"\\u001d\",\"\").split(\"\\u000b\")\n",
        "    for field in fields:\n",
        "        col_set.add(field)"
      ],
      "id": "affc68ae",
      "execution_count": null,
      "outputs": []
    },
    {
      "cell_type": "markdown",
      "metadata": {},
      "source": [
        "### A jumble of the first and last records\n"
      ],
      "id": "681464dd"
    },
    {
      "cell_type": "code",
      "metadata": {},
      "source": [
        "col_list = sorted(list(col_set), key=lambda x: x)\n",
        "show_values(\"Comments\",col_list,7,7)"
      ],
      "id": "3ff2e561",
      "execution_count": null,
      "outputs": []
    },
    {
      "cell_type": "markdown",
      "metadata": {},
      "source": [
        "### Sorted with the longest at the end\n"
      ],
      "id": "5aead84c"
    },
    {
      "cell_type": "code",
      "metadata": {},
      "source": [
        "col_list = sorted(list(col_set), key=lambda x: len(x))\n",
        "show_values(\"Comments\",col_list,7,7)"
      ],
      "id": "30014593",
      "execution_count": null,
      "outputs": []
    },
    {
      "cell_type": "markdown",
      "metadata": {},
      "source": [
        "## Diagnosis (col 11)\n"
      ],
      "id": "720d99f4"
    },
    {
      "cell_type": "code",
      "metadata": {},
      "source": [
        "col_set = set()  # Initialize an empty set to store unique values\n",
        "for row in raw_db:\n",
        "    fields = row[11].replace(\"\\u001d\",\"\").split(\"\\u000b\")\n",
        "    for field in fields:\n",
        "        col_set.add(field)"
      ],
      "id": "0feaf69c",
      "execution_count": null,
      "outputs": []
    },
    {
      "cell_type": "markdown",
      "metadata": {},
      "source": [
        "### A jumble of the first and last records\n"
      ],
      "id": "94049a40"
    },
    {
      "cell_type": "code",
      "metadata": {},
      "source": [
        "col_list = sorted(list(col_set), key=lambda x: x)\n",
        "show_values(\"Diagnosis\",col_list,7,7)"
      ],
      "id": "47990ee9",
      "execution_count": null,
      "outputs": []
    },
    {
      "cell_type": "markdown",
      "metadata": {},
      "source": [
        "### Sorted with the longest at the end\n"
      ],
      "id": "0ee5bec8"
    },
    {
      "cell_type": "code",
      "metadata": {},
      "source": [
        "col_list = sorted(list(col_set), key=lambda x: len(x))\n",
        "show_values(\"Diagnosis\",col_list,7,7)"
      ],
      "id": "8701f9bf",
      "execution_count": null,
      "outputs": []
    },
    {
      "cell_type": "markdown",
      "metadata": {},
      "source": [
        "### Cleaning diagnoses\n"
      ],
      "id": "eeb412dd"
    },
    {
      "cell_type": "code",
      "metadata": {},
      "source": [
        "def odd_code(i, code ):\n",
        "    if code in raw_db[i][11]:\n",
        "        logger.warning(f\"Record: {i:6} : {code.encode('utf-8')}\")\n",
        "\n",
        "\n",
        "for i,row in enumerate(raw_db):\n",
        "    odd_code(i,\"\\\\\\'\")\n",
        "    raw_db[i][11] = raw_db[i][11].replace(\"\\\\\\'\",\"'\")\n",
        "    odd_code(i,\"\\\\\\\"\")\n",
        "    raw_db[i][11] = raw_db[i][11].replace(\"\\\\\\\"\",\"'\")\n",
        "    odd_code(i,\"''\")\n",
        "    raw_db[i][11] = raw_db[i][11].replace(\"''\",\"\")\n",
        "    if raw_db[i][11]==\"\\\\\":\n",
        "        logger.warning(f\"Record: {i:6} : {code.encode('utf-8')}\")\n",
        "        raw_db[i][11] = \"\"\n",
        "    if raw_db[i][11].endswith(\"\\\\\"):\n",
        "        logger.warning(f\"Record: {i:6} : {code.encode('utf-8')} ends with\")\n",
        "        raw_db[i][11] = raw_db[i][11][:-1]\n",
        "\n",
        "#    raw_db[i][11] = raw_db[i][11].encode('utf-8').replace(b'\\xe2\\x80\\x93',\"-\".encode('utf-8')).decode()"
      ],
      "id": "f8250af7",
      "execution_count": null,
      "outputs": []
    },
    {
      "cell_type": "markdown",
      "metadata": {},
      "source": [
        "## Type Specimens (col 12)\n"
      ],
      "id": "9049be21"
    },
    {
      "cell_type": "code",
      "metadata": {},
      "source": [
        "col_set = set()  # Initialize an empty set to store unique values\n",
        "for row in raw_db:\n",
        "    fields = row[12].replace(\"\\u001d\",\"\").split(\"\\u000b\")\n",
        "    for field in fields:\n",
        "        col_set.add(field)"
      ],
      "id": "83e92022",
      "execution_count": null,
      "outputs": []
    },
    {
      "cell_type": "markdown",
      "metadata": {},
      "source": [
        "### A jumble of the first and last records\n"
      ],
      "id": "f1c45624"
    },
    {
      "cell_type": "code",
      "metadata": {},
      "source": [
        "col_list = sorted(list(col_set), key=lambda x: x)\n",
        "show_values(\"Type specimens\",col_list,7,7)"
      ],
      "id": "1654fd86",
      "execution_count": null,
      "outputs": []
    },
    {
      "cell_type": "markdown",
      "metadata": {},
      "source": [
        "### Sorted with the longest at the end\n"
      ],
      "id": "e1e5f99a"
    },
    {
      "cell_type": "code",
      "metadata": {},
      "source": [
        "col_list = sorted(list(col_set), key=lambda x: len(x))\n",
        "show_values(\"Type specimens\",col_list,7,7)"
      ],
      "id": "a5c70db8",
      "execution_count": null,
      "outputs": []
    },
    {
      "cell_type": "markdown",
      "metadata": {},
      "source": [
        "## External links (col 13)\n"
      ],
      "id": "46559721"
    },
    {
      "cell_type": "code",
      "metadata": {},
      "source": [
        "col_set = set()  # Initialize an empty set to store unique values\n",
        "for row in raw_db:\n",
        "    fields = row[13].replace(\"\\u001d\",\"\").split(\"\\u000b\")\n",
        "    for field in fields:\n",
        "        col_set.add(field)"
      ],
      "id": "dc3adbb9",
      "execution_count": null,
      "outputs": []
    },
    {
      "cell_type": "markdown",
      "metadata": {},
      "source": [
        "### A jumble of the first and last records\n"
      ],
      "id": "237ee4d0"
    },
    {
      "cell_type": "code",
      "metadata": {},
      "source": [
        "col_list = sorted(list(col_set), key=lambda x: x)\n",
        "show_values(\"External links\",col_list,7,7)"
      ],
      "id": "2e7be68f",
      "execution_count": null,
      "outputs": []
    },
    {
      "cell_type": "markdown",
      "metadata": {},
      "source": [
        "### Sorted with the longest at the end\n"
      ],
      "id": "0df34ee4"
    },
    {
      "cell_type": "code",
      "metadata": {},
      "source": [
        "col_list = sorted(list(col_set), key=lambda x: len(x))\n",
        "show_values(\"External links\",col_list,7,7)"
      ],
      "id": "7771dc23",
      "execution_count": null,
      "outputs": []
    },
    {
      "cell_type": "markdown",
      "metadata": {},
      "source": [
        "## Bibliography (col 14)\n",
        "\n",
        "* What should we do with missing bibliography numbers?  That is, a number in the reptile database\n",
        "that doesn't have a corresponding entry in the bibliography table?\n",
        "\n",
        "* What should we do with unused bibliography references?\n"
      ],
      "id": "5700181f"
    },
    {
      "cell_type": "code",
      "metadata": {},
      "source": [
        "ids_in_db = set()\n",
        "for row in raw_db:\n",
        "    bibs = row[14].replace(\"\\x1d\", \"\").split(\"\\x0b\")\n",
        "    for bib in bibs:\n",
        "        ids_in_db.add(bib)\n",
        "ids_in_biblio = set()\n",
        "for row in raw_bib:\n",
        "    ids_in_biblio.add(row[0])\n",
        "\n",
        "ids_not_in_bibliography = ids_in_db - ids_in_biblio\n",
        "unused_bibliography_ids = ids_in_biblio - ids_in_db\n",
        "\n",
        "print(f\"Number of ids in DB: {len(ids_in_db)}\")\n",
        "print(f\"Number of ids in bibliography table: {len(ids_in_biblio)}\")\n",
        "print(\"\")\n",
        "print(f\"Number of missing bibliography references: {len(ids_not_in_bibliography)}\")\n",
        "print(f\"Number of unused bibliography entries: {len(unused_bibliography_ids)}\")\n",
        "print(\"\")\n",
        "print(\"\")\n",
        "show_values(\"Bibliography\",sorted(list(ids_in_db)),7,7)"
      ],
      "id": "6a3154d6",
      "execution_count": null,
      "outputs": []
    },
    {
      "cell_type": "markdown",
      "metadata": {},
      "source": [
        "## Etymology (col 15)\n",
        "\n",
        "* How should these data be cleaned?  \n",
        "\n",
        "* Is the max length correct? \n",
        "\n",
        "### Etymology records sorted.\n",
        "\n",
        "Note the empty records, odd chars in records, and inconsistent lead characters.\n"
      ],
      "id": "80249149"
    },
    {
      "cell_type": "code",
      "metadata": {},
      "source": [
        "show_column(\"Etymology\",raw_db,15,False)"
      ],
      "id": "46028f1e",
      "execution_count": null,
      "outputs": []
    },
    {
      "cell_type": "markdown",
      "metadata": {},
      "source": [
        "### Etymology sorted by length\n",
        "\n",
        "Only a few are really, really long!\n"
      ],
      "id": "9d59f73b"
    },
    {
      "cell_type": "code",
      "metadata": {},
      "source": [
        "col_set = set()  # Initialize an empty set to store unique values\n",
        "for row in raw_db:\n",
        "    col_set.add(row[15])\n",
        "col_list = sorted(list(col_set), key=lambda x: len(x))\n",
        "show_values(\"Etymology by length\",col_list,7,7)"
      ],
      "id": "72514ddc",
      "execution_count": null,
      "outputs": []
    },
    {
      "cell_type": "markdown",
      "metadata": {},
      "source": [
        "## Column 16\n"
      ],
      "id": "e0168e6e"
    },
    {
      "cell_type": "code",
      "metadata": {},
      "source": [
        "show_column(\"Unknown Column 16\",raw_db,16,False)"
      ],
      "id": "ddcb5921",
      "execution_count": null,
      "outputs": []
    },
    {
      "cell_type": "markdown",
      "metadata": {},
      "source": [
        "## Column 17\n"
      ],
      "id": "b61391da"
    },
    {
      "cell_type": "code",
      "metadata": {},
      "source": [
        "col_set = set()  # Initialize an empty set to store unique values\n",
        "for row in raw_db:\n",
        "    fields = row[17].replace(\"\\u001d\",\"\").split(\"\\u000b\")\n",
        "    for field in fields:\n",
        "        col_set.add(field)"
      ],
      "id": "aeeeaccf",
      "execution_count": null,
      "outputs": []
    },
    {
      "cell_type": "markdown",
      "metadata": {},
      "source": [
        "### A jumble of the first and last records\n"
      ],
      "id": "08d38d59"
    },
    {
      "cell_type": "code",
      "metadata": {},
      "source": [
        "col_list = sorted(list(col_set), key=lambda x: x)\n",
        "show_values(\"Column 17\",col_list,7,7)"
      ],
      "id": "c741da7d",
      "execution_count": null,
      "outputs": []
    },
    {
      "cell_type": "markdown",
      "metadata": {},
      "source": [
        "### Sorted with the longest at the end\n"
      ],
      "id": "3cfd4288"
    },
    {
      "cell_type": "code",
      "metadata": {},
      "source": [
        "col_list = sorted(list(col_set), key=lambda x: len(x))\n",
        "show_values(\"Column 17\",col_list,7,7)"
      ],
      "id": "a6d21f3b",
      "execution_count": null,
      "outputs": []
    },
    {
      "cell_type": "markdown",
      "metadata": {},
      "source": [
        "## Reproduction values (col 18)\n",
        "\n",
        "* How should reproduction be coded or recoded?\n",
        "\n",
        "* How to handle extra long rows?\n"
      ],
      "id": "8034da78"
    },
    {
      "cell_type": "code",
      "metadata": {},
      "source": [
        "show_column(\"Reproduction\",raw_db,18,False)"
      ],
      "id": "afef1dab",
      "execution_count": null,
      "outputs": []
    },
    {
      "cell_type": "markdown",
      "metadata": {},
      "source": [
        "I see *oviparous*,*ovoviparous*, and *viviparous*.  Some capitalized and others not. Here is a listing of values that don't begin with *ov*:\n"
      ],
      "id": "656ce409"
    },
    {
      "cell_type": "code",
      "metadata": {},
      "source": [
        "reproduction_set = set()  # Initialize an empty set to store unique values\n",
        "for row in raw_db:\n",
        "    if not row[18].lower()[:2] in ['ov','vi']:\n",
        "        reproduction_set.add(row[18])\n",
        "repro_list = sorted(list(reproduction_set))\n",
        "\n",
        "show_values(\"Non ov/vi fields\",repro_list,7,7)"
      ],
      "id": "0241708b",
      "execution_count": null,
      "outputs": []
    },
    {
      "cell_type": "markdown",
      "metadata": {},
      "source": [
        "## Bib id (col 0)\n"
      ],
      "id": "2ac9c3cd"
    },
    {
      "cell_type": "code",
      "metadata": {},
      "source": [
        "show_column(\"Bibliography: bib_id\",raw_bib,0,False)"
      ],
      "id": "fa0657b4",
      "execution_count": null,
      "outputs": []
    },
    {
      "cell_type": "markdown",
      "metadata": {},
      "source": [
        "## Bib authors (col 1)"
      ],
      "id": "eec0ba80"
    },
    {
      "cell_type": "code",
      "metadata": {},
      "source": [
        "show_column(\"bib_authors\",raw_bib,1,False)"
      ],
      "id": "9baf33f3",
      "execution_count": null,
      "outputs": []
    },
    {
      "cell_type": "markdown",
      "metadata": {},
      "source": [
        "## Bib year (col 2)\n"
      ],
      "id": "9eb86658"
    },
    {
      "cell_type": "code",
      "metadata": {},
      "source": [
        "show_column(\"bib_year\",raw_bib,2,True)"
      ],
      "id": "b52160f9",
      "execution_count": null,
      "outputs": []
    },
    {
      "cell_type": "markdown",
      "metadata": {},
      "source": [
        "### Cleaning bib_year\n"
      ],
      "id": "56e4b708"
    },
    {
      "cell_type": "code",
      "metadata": {},
      "source": [
        "for i,row in enumerate(raw_bib):\n",
        "    try:\n",
        "        if not int(row[2]) in range(1600,2399):\n",
        "            logger.warning(f\"bib year (col02): {i:6} : Invalid year {row[2]}\")\n",
        "    except ValueError as e:\n",
        "        logger.warning(f\"Subspecies year (col04): {i:6} : {e}\")"
      ],
      "id": "3db294a8",
      "execution_count": null,
      "outputs": []
    },
    {
      "cell_type": "markdown",
      "metadata": {},
      "source": [
        "## Bib title (col 3)\n",
        "\n",
        "* There is something definitely wrong here!\n"
      ],
      "id": "fce0f342"
    },
    {
      "cell_type": "code",
      "metadata": {},
      "source": [
        "col_set = set()  # Initialize an empty set to store unique values\n",
        "for row in raw_bib:\n",
        "    fields = row[3].replace(\"\\u001d\",\"\").split(\"\\u000b\")\n",
        "    for field in fields:\n",
        "        col_set.add(field)"
      ],
      "id": "bef1a291",
      "execution_count": null,
      "outputs": []
    },
    {
      "cell_type": "markdown",
      "metadata": {},
      "source": [
        "### A jumble of the first and last records\n"
      ],
      "id": "b13fbaac"
    },
    {
      "cell_type": "code",
      "metadata": {},
      "source": [
        "col_list = sorted(list(col_set), key=lambda x: x)\n",
        "show_values(\"External links\",col_list,7,7)"
      ],
      "id": "1638007c",
      "execution_count": null,
      "outputs": []
    },
    {
      "cell_type": "markdown",
      "metadata": {},
      "source": [
        "### Sorted with the longest at the end\n"
      ],
      "id": "f11028a2"
    },
    {
      "cell_type": "code",
      "metadata": {},
      "source": [
        "col_list = sorted(list(col_set), key=lambda x: len(x))\n",
        "show_values(\"External links\",col_list,7,7)"
      ],
      "id": "03ff122b",
      "execution_count": null,
      "outputs": []
    },
    {
      "cell_type": "markdown",
      "metadata": {},
      "source": [
        "## Bib journal (col 4)"
      ],
      "id": "da84118c"
    },
    {
      "cell_type": "code",
      "metadata": {},
      "source": [
        "show_column(\"bib_journal\",raw_bib,4,False)"
      ],
      "id": "2fef840c",
      "execution_count": null,
      "outputs": []
    },
    {
      "cell_type": "markdown",
      "metadata": {},
      "source": [
        "## Bib URL (col 5)"
      ],
      "id": "f81d7f3f"
    },
    {
      "cell_type": "code",
      "metadata": {},
      "source": [
        "show_column(\"bib_url\",raw_bib,5,False)"
      ],
      "id": "d6edf003",
      "execution_count": null,
      "outputs": []
    },
    {
      "cell_type": "markdown",
      "metadata": {},
      "source": [
        "# Creating and testing the database\n",
        "\n",
        "Armed with what we learned above, let's load up the database!  Depending on the *engine_uri* setting above\n",
        "the data will be stored in a local *sqlite* database, or it may be stored directly to a mysql server.\n",
        "\n",
        "\n",
        "```{powershell}\n",
        "## If you installed sqlite3 correctly, you should be able\n",
        "## to run this command:\n",
        "\n",
        "sqlite3\n",
        "\n",
        "# .quit will exit the prompt\n",
        "\n",
        "```\n",
        "\n",
        "\n",
        "## Create SQLAlchemy objects\n",
        "\n",
        "Why use SQLAlchemy?  Our final goal is to write an API server that responses to queries and returns JSON objects.\n",
        "\n",
        "JSON objects are very nice in that they reflect the organization of the data.\n",
        "\n",
        "However, JSON objects are difficult to reconstruct from a relational database.\n",
        "\n",
        "By encapsulating the data in an *object-reference model* or *ORM* provided by tools like SQLAlchemy, we can pull JSON objects\n",
        "directly from the database using queries.  This will greatly streamling the creation of the back and and more importantly, reduce errors.\n",
        "\n",
        "The rather long section below defines the objects and relations between objects.\n"
      ],
      "id": "9b5fcf42"
    },
    {
      "cell_type": "code",
      "metadata": {},
      "source": [
        "# Create SQLAlchemy objects\n",
        "from sqlalchemy import Column, Integer, String, ForeignKey, Table, LargeBinary, UniqueConstraint, Text\n",
        "from sqlalchemy import create_engine\n",
        "from sqlalchemy.orm import relationship, backref, sessionmaker, Session\n",
        "from sqlalchemy.orm import declarative_base\n",
        "\n",
        "from models import *"
      ],
      "id": "07cc3cb0",
      "execution_count": null,
      "outputs": []
    },
    {
      "cell_type": "markdown",
      "metadata": {},
      "source": [
        "Now, let's create a database connection and populate the database\n"
      ],
      "id": "9f50e4cf"
    },
    {
      "cell_type": "code",
      "metadata": {},
      "source": [
        "# engine_uri is set above\n",
        "\n",
        "engine = create_engine(engine_uri)\n",
        "Base.metadata.create_all(engine)\n",
        "\n",
        "Session = sessionmaker()\n",
        "Session.configure(bind=engine)\n",
        "session = Session()"
      ],
      "id": "82cbbf4a",
      "execution_count": null,
      "outputs": []
    },
    {
      "cell_type": "markdown",
      "metadata": {},
      "source": [
        "First, COMPLETELY load the bibliography\n"
      ],
      "id": "2e0b2e9e"
    },
    {
      "cell_type": "code",
      "metadata": {},
      "source": [
        "## Load bibliography.\n",
        "\n",
        "def load_biblio( session, row ):\n",
        "    \"\"\" Load bibliography record into table \"\"\"\n",
        "    biblio = Biblio( row )\n",
        "    session.add(biblio)\n",
        "#    session.commit()\n",
        "\n",
        "session.query(Biblio).delete()\n",
        "\n",
        "for i,row in enumerate(raw_bib):\n",
        "    try:\n",
        "        load_biblio( session, row )\n",
        "    except ValueError as e:\n",
        "        logger.warning(f\"bib record {i}: {e}\")\n",
        "\n",
        "    if (False and not i<100):\n",
        "        break\n",
        "\n",
        "session.commit()"
      ],
      "id": "083fcd90",
      "execution_count": null,
      "outputs": []
    },
    {
      "cell_type": "markdown",
      "metadata": {},
      "source": [
        "Load the reptile records.  Error messages will show biblio ID found \n",
        "in a reptile record that don't match up with any records in the bibliography table.\n",
        "\n",
        "This code gets modified over time as we refactor each record, pulling pieces \n",
        "into their own tables.\n"
      ],
      "id": "b6026ff6"
    },
    {
      "cell_type": "code",
      "metadata": {},
      "source": [
        "## Load reptiles\n",
        "\n",
        "def clean_field( field ):\n",
        "    field = field.strip()\n",
        "    if field.endswith(\"\\\\\"):\n",
        "        while field.endswith(\"\\\\\"):\n",
        "            field = field[:-1]\n",
        "    return field\n",
        "\n",
        "\n",
        "def load_reptile( session, row ):\n",
        "    \"\"\" load a reptile into table \"\"\"\n",
        "\n",
        "    reptile = Reptile( row )\n",
        "    session.add(reptile)\n",
        " #   session.commit()\n",
        "\n",
        "    # Clean up and split the bibliographies\n",
        "    bibs = row[14].replace(\"\\x1d\", \"\").split(\"\\x0b\")\n",
        "    # Loop over array.\n",
        "    for bib in bibs:\n",
        "        # check if ID is found in biblio DB\n",
        "        found_bib = (\n",
        "            session.query(Biblio)\n",
        "            .filter(Biblio.bib_id == bib)\n",
        "            ).one_or_none()\n",
        "        # If not found, we just found a bug in the original DB\n",
        "        if found_bib is None:\n",
        "            pass\n",
        "##            logger.debug(f\"Bib ID :{bib}: not found in biblio table\" )\n",
        "\n",
        "        # If found, make the connections between the records.\n",
        "        # This represents the SQLAlchemy magic.\n",
        "        else:\n",
        "            reptile.bibliography.append(found_bib)\n",
        "            found_bib.reptiles.append(reptile)\n",
        "#            session.commit()\n",
        "\n",
        "    # Working with higher-taxa\n",
        "    higher_taxa = row[0]\n",
        "#    logger.debug(f\"Searching for {higher_taxa}\")\n",
        "    found_taxa = (session.query(Taxa).filter(Taxa.value==higher_taxa)).one_or_none()\n",
        "    # If not found, add a new record to taxa table\n",
        "    if found_taxa is None:\n",
        "        logger.debug(f\"Adding new taxa: {higher_taxa}\")\n",
        "        found_taxa = Taxa( row )\n",
        "        session.add(found_taxa)\n",
        "#        session.commit()\n",
        "    # connect reptile and taxa\n",
        "    reptile.taxa = found_taxa\n",
        "#    found_taxa.reptiles.append( reptile )\n",
        "\n",
        "    # Working with synonyms\n",
        "    synonyms = row[6].replace(\"\\u001d\",\"\").split(\"\\u000b\")\n",
        "    if synonyms is not None:\n",
        "        for syn in synonyms:\n",
        "            syn = clean_field(syn)\n",
        "            if len(syn)>0:\n",
        "                new_syn = Synonym( syn )\n",
        "                session.add(new_syn)\n",
        "                reptile.synonyms.append( new_syn )\n",
        "\n",
        "    # Working with synonyms\n",
        "    col7 = row[7].replace(\"\\u001d\",\"\").split(\"\\u000b\")\n",
        "    if col7 is not None:\n",
        "        for item in col7:\n",
        "            item = clean_field(item)\n",
        "            if len(item)>0:\n",
        "                field = Column7( item )\n",
        "                session.add(field)\n",
        "                reptile.column7s.append( field )\n",
        "\n",
        "    # Working with common names\n",
        "    names = row[8].replace(\"\\u001d\",\"\").split(\"\\u000b\")\n",
        "    if names is not None:\n",
        "        for name in names:\n",
        "            name = clean_field(name)\n",
        "            if len(name)>0:\n",
        "                new_name = Common_Name( name )\n",
        "                session.add(new_name)\n",
        "                reptile.common_names.append( new_name )\n",
        "\n",
        "    # Working with distributions\n",
        "    distributions = row[9].replace(\"\\u001d\",\"\").split(\"\\u000b\")\n",
        "    if distributions is not None:\n",
        "        for dist in distributions:\n",
        "            dist = clean_field(dist)\n",
        "            if len(dist)>0:\n",
        "                new_dist = Distribution( dist )\n",
        "                session.add(new_dist)\n",
        "                reptile.distributions.append( new_dist )\n",
        "\n",
        "    # Working with comments\n",
        "    comments = row[10].replace(\"\\u001d\",\"\").split(\"\\u000b\")\n",
        "    if comments is not None:\n",
        "        for comm in comments:\n",
        "            comm = clean_field(comm)\n",
        "            if len(comm)>0:\n",
        "                new_comm = Comment( comm )\n",
        "                session.add(new_comm)\n",
        "#                session.commit()\n",
        "                reptile.comments.append( new_comm )\n",
        "\n",
        "    # Working with diagnoses\n",
        "    diagnoses = row[11].replace(\"\\u001d\",\"\").split(\"\\u000b\")\n",
        "    if diagnoses is not None:\n",
        "        for diag in diagnoses:\n",
        "            diag = clean_field(diag)\n",
        "            if len(diag)>0:\n",
        "                new_diag = Diagnosis( diag )\n",
        "                session.add(new_diag)\n",
        "                reptile.diagnoses.append( new_diag )\n",
        "\n",
        "    # Working with external_links\n",
        "    urls = row[13].replace(\"\\u001d\",\"\").split(\"\\u000b\")\n",
        "    if urls is not None:\n",
        "        for url in urls:\n",
        "            url = clean_field(url)\n",
        "            if len(url)>0:\n",
        "                new_url = External_Link( url )\n",
        "                session.add(new_url)\n",
        "                reptile.external_links.append( new_url )\n",
        "\n",
        "    # Working with etymologies\n",
        "    etymologies = row[15].replace(\"\\u001d\",\"\").split(\"\\u000b\")\n",
        "    if etymologies is not None:\n",
        "        for ety in etymologies:\n",
        "            ety = clean_field(ety)\n",
        "            if len(ety)>0:\n",
        "                new_ety = Etymology( ety )\n",
        "                session.add(new_ety)\n",
        "                reptile.etymologies.append( new_ety )\n",
        "\n",
        "    # Working with specimens\n",
        "    specimens = row[12].replace(\"\\u001d\",\"\").split(\"\\u000b\")\n",
        "    if specimens is not None:\n",
        "        for spec in specimens:\n",
        "            spec = clean_field(spec)\n",
        "            if len(spec)>0:\n",
        "                new_spec = Specimen( spec )\n",
        "                session.add(new_spec)\n",
        "                reptile.specimens.append( new_spec )\n",
        "\n",
        "\n",
        "#    session.commit()\n",
        "\n",
        "# Clear out the old table before loading.  This minimizes primary key errors\n",
        "\n",
        "logger.debug(f\"rows to process: {len(raw_db)}\")\n",
        "\n",
        "for i,row in enumerate(raw_db):\n",
        "    try:\n",
        "        load_reptile( session, row )\n",
        "    except ValueError as e:\n",
        "        logger.warning(f\"reptile record {i}: {e}\")\n",
        "\n",
        "    if i % 500 == 0:\n",
        "#        logger.debug(f\"{i:5}\")\n",
        "        session.commit()\n",
        "\n",
        "    if (Testing and (not i<200)):\n",
        "        logger.warning(f\"TESTING: subset of records loaded.  See line referenced by this warning.\")\n",
        "        break\n",
        "\n",
        "\n",
        "session.commit()"
      ],
      "id": "47aba9f6",
      "execution_count": null,
      "outputs": []
    },
    {
      "cell_type": "markdown",
      "metadata": {},
      "source": [
        "## Exploring decoding\n",
        "\n",
        "The following sections are used for help identify opportunities for additional decodes and to make sure\n",
        "that we're unpacking each of the fields correctly.\n",
        "\n",
        "Study the individual elements in each list.  Note that many of the fields encode a descriptor,\n",
        "for example, *elevation*, *photo*, *location*, etc.\n",
        "\n",
        "In the interest of *hardening* the database:\n",
        "\n",
        "* should we more explicitly unpack these types, ensuring\n",
        "that users can only select from a limited number?  Or,\n",
        "\n",
        "* should we leave these fields fast and loose so that new fields can be added on the fly.\n",
        "\n",
        "See: <https://realpython.com/python-sqlite-sqlalchemy/#working-with-sqlalchemy-and-python-objects>\n"
      ],
      "id": "85e0b007"
    },
    {
      "cell_type": "code",
      "metadata": {},
      "source": [
        "#| echo: false\n",
        "\n",
        "first_reptile = session.query(Reptile).first()\n",
        "\n",
        "# Dump a single record to JSON\n",
        "def sqlalchemy_object_to_dict(obj):\n",
        "    ignore_fields = ['bibliography_ids','taxa_id']\n",
        "    if obj is None:\n",
        "        return None\n",
        "\n",
        "    if isinstance(obj, list):\n",
        "        return [sqlalchemy_object_to_dict(item) for item in obj]\n",
        "\n",
        "    if hasattr(obj, '__dict__'):\n",
        "        data = obj.__dict__.copy()\n",
        "        # Remove private attributes and SQLAlchemy-specific attributes\n",
        "        for key in list(data.keys()):\n",
        "            if key.startswith('_') or key == 'metadata' or key in ignore_fields:\n",
        "                del data[key]\n",
        "\n",
        "        # Recursively convert nested objects\n",
        "        for key, value in data.items():\n",
        "            if isinstance(value, list):\n",
        "                data[key] = [sqlalchemy_object_to_dict(item) for item in value]\n",
        "            elif hasattr(value, '__dict__'):\n",
        "                data[key] = sqlalchemy_object_to_dict(value)\n",
        "\n",
        "        return data\n",
        "\n",
        "    return obj\n",
        "\n",
        "    \n",
        "def review( f1, f2 ):\n",
        "    try:\n",
        "        # Code that may raise an AttributeError\n",
        "        print( json.dumps(sqlalchemy_object_to_dict( getattr(first_reptile,f1)),indent=4) )\n",
        "    except AttributeError as e:\n",
        "        # Handle the exception here\n",
        "        print(f\"An AttributeError occurred: {e}\")\n",
        "    try:\n",
        "        # Code that may raise an AttributeError\n",
        "        print( json.dumps(sqlalchemy_object_to_dict( getattr(first_reptile,f2)),indent=4) )\n",
        "    except AttributeError as e:\n",
        "        # Handle the exception here\n",
        "        print(f\"An AttributeError occurred: {e}\")"
      ],
      "id": "147973d0",
      "execution_count": null,
      "outputs": []
    },
    {
      "cell_type": "markdown",
      "metadata": {},
      "source": [
        "### Common names\n",
        "\n",
        "* How should we restructure this table?\n"
      ],
      "id": "e42adcd4"
    },
    {
      "cell_type": "code",
      "metadata": {},
      "source": [
        "review( \"common_names_string\",\"common_names\")"
      ],
      "id": "162e587a",
      "execution_count": null,
      "outputs": []
    },
    {
      "cell_type": "markdown",
      "metadata": {},
      "source": [
        "### Geographic Distribution\n",
        "\n",
        "* How should we restructure this table?\n"
      ],
      "id": "d279b1d5"
    },
    {
      "cell_type": "code",
      "metadata": {},
      "source": [
        "review( \"distribution_string\",\"distributions\")"
      ],
      "id": "218b8a5e",
      "execution_count": null,
      "outputs": []
    },
    {
      "cell_type": "markdown",
      "metadata": {},
      "source": [
        "### Diagnoses\n",
        "\n",
        "* How should we restructure this table?\n"
      ],
      "id": "f52334e4"
    },
    {
      "cell_type": "code",
      "metadata": {},
      "source": [
        "review( \"diagnosis_string\",\"diagnoses\")"
      ],
      "id": "346f337b",
      "execution_count": null,
      "outputs": []
    },
    {
      "cell_type": "markdown",
      "metadata": {},
      "source": [
        "### External URLs\n",
        "\n",
        "* How should we restructure this table?\n"
      ],
      "id": "fbc839db"
    },
    {
      "cell_type": "code",
      "metadata": {},
      "source": [
        "review( \"external_links_string\",\"external_links\")"
      ],
      "id": "42417005",
      "execution_count": null,
      "outputs": []
    },
    {
      "cell_type": "markdown",
      "metadata": {},
      "source": [
        "### Etymologies\n",
        "\n",
        "* How should we restructure this table?\n"
      ],
      "id": "c8e854c5"
    },
    {
      "cell_type": "code",
      "metadata": {},
      "source": [
        "review( \"etymology_string\",\"etymologies\")"
      ],
      "id": "34c99db0",
      "execution_count": null,
      "outputs": []
    },
    {
      "cell_type": "markdown",
      "metadata": {},
      "source": [
        "### Type Specimens\n"
      ],
      "id": "01bbb762"
    },
    {
      "cell_type": "code",
      "metadata": {},
      "source": [
        "review( \"types_string\",\"specimens\")"
      ],
      "id": "80b0017a",
      "execution_count": null,
      "outputs": []
    },
    {
      "cell_type": "markdown",
      "metadata": {},
      "source": [
        "# Output practice\n",
        "\n",
        "Now that we've got a database loaded.  Let's experiment with working with the data.\n",
        "\n",
        "The examples below will help with creation of the API.\n",
        "\n",
        "## Examples of referencing fields of the ORM\n",
        "\n",
        "SQLAlchemy uses an object-reference model (ORM).  Without much work, it makes\n",
        "it easy to address elements across database tables.\n",
        "\n",
        "Below are a few examples, printing out the first record of the database.\n"
      ],
      "id": "00ff5beb"
    },
    {
      "cell_type": "code",
      "metadata": {},
      "source": [
        "first_reptile = session.query(Reptile).first()\n",
        "\n",
        "print(first_reptile)\n",
        "for field_name in ['subspecies_1','subspecies_2','subspecies_year']:\n",
        "    print(f\"{field_name:>15s} : {getattr(first_reptile,field_name)}\")\n",
        "print(f\"           Taxa : {first_reptile.taxa.value}\")\n",
        "print(f\"     References :\")\n",
        "for bib in first_reptile.bibliography:\n",
        "    print(f\"{bib.bib_id:>15s} : {bib.bib_authors},{bib.bib_year}\")\n",
        "print(f\"       Synonyms :\")\n",
        "for syn in first_reptile.synonyms:\n",
        "    print(f\"{syn.id:>15d} : {syn.value}\")\n",
        "print(f\"       Comments :\")\n",
        "for comm in first_reptile.comments:\n",
        "    print(f\"{comm.id:>15d} : {comm.value}\")\n",
        "\n",
        "print(f\"        Column7 :\")\n",
        "for comm in first_reptile.column7s:\n",
        "    print(f\"{comm.id:>15d} : {comm.value}\")"
      ],
      "id": "b0dc6aab",
      "execution_count": null,
      "outputs": []
    },
    {
      "cell_type": "markdown",
      "metadata": {},
      "source": [
        "## Example JSON output.\n",
        "\n",
        "Write a record out as JSON, simulating a API query.  This offers\n",
        "an example of what the API server will return.\n",
        "\n",
        "We'll be doing TONS of this in the flask API application.\n"
      ],
      "id": "bba27a75"
    },
    {
      "cell_type": "code",
      "metadata": {},
      "source": [
        "o = sqlalchemy_object_to_dict(first_reptile)\n",
        "\n",
        "print( json.dumps(o,indent=4) )\n"
      ],
      "id": "b70ce00b",
      "execution_count": null,
      "outputs": []
    }
  ],
  "metadata": {
    "kernelspec": {
      "name": "python3",
      "language": "python",
      "display_name": "Python 3 (ipykernel)"
    }
  },
  "nbformat": 4,
  "nbformat_minor": 5
}